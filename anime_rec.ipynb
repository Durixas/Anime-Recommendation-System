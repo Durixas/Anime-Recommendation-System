{
  "nbformat": 4,
  "nbformat_minor": 0,
  "metadata": {
    "colab": {
      "provenance": [],
      "collapsed_sections": [
        "FH9iTk98mGyr",
        "jDsK7oaamUUJ"
      ]
    },
    "kernelspec": {
      "name": "python3",
      "display_name": "Python 3"
    },
    "language_info": {
      "name": "python"
    }
  },
  "cells": [
    {
      "cell_type": "markdown",
      "source": [
        "# 1. Set Up Environments"
      ],
      "metadata": {
        "id": "qm9zYV9Il4mX"
      }
    },
    {
      "cell_type": "markdown",
      "source": [
        "## Spark"
      ],
      "metadata": {
        "id": "FH9iTk98mGyr"
      }
    },
    {
      "cell_type": "code",
      "execution_count": null,
      "metadata": {
        "id": "eM2DUzu4jfBb"
      },
      "outputs": [],
      "source": [
        "# Download Java Virtual Machine (JVM)\n",
        "!apt-get install openjdk-8-jdk-headless -qq > /dev/null\n",
        "# Download Spark\n",
        "!wget -q https://downloads.apache.org/spark/spark-3.5.0/spark-3.5.0-bin-hadoop3.tgz\n",
        "# Unzip the file\n",
        "!tar xf spark-3.5.0-bin-hadoop3.tgz\n",
        "# Set up the enviornment\n",
        "import os\n",
        "os.environ[\"JAVA_HOME\"] = \"/usr/lib/jvm/java-8-openjdk-amd64\"\n",
        "os.environ[\"SPARK_HOME\"] = '/content/spark-3.5.0-bin-hadoop3'\n",
        "# Install library for finding Spark\n",
        "!pip install -q findspark\n",
        "# Import the libary\n",
        "import findspark\n",
        "# Initiate findspark\n",
        "findspark.init()\n",
        "# Check the location for Spark\n",
        "findspark.find()\n",
        "# Import SparkSession\n",
        "from pyspark.sql import SparkSession\n",
        "# Create a Spark Session\n",
        "spark = SparkSession.builder.master(\"local[*]\").getOrCreate()\n",
        "# Check Spark Session Information\n",
        "spark\n",
        "# Import a Spark function from library\n",
        "from pyspark.sql.functions import col\n",
        "from pyspark.sql.functions import udf\n",
        "from pyspark.sql.types import ArrayType,StringType"
      ]
    },
    {
      "cell_type": "markdown",
      "source": [
        "## Libraries"
      ],
      "metadata": {
        "id": "jDsK7oaamUUJ"
      }
    },
    {
      "cell_type": "code",
      "source": [
        "import numpy as np\n",
        "import pandas as pd\n",
        "import seaborn as sns\n",
        "import matplotlib.pyplot as plt\n",
        "import math\n",
        "%matplotlib inline"
      ],
      "metadata": {
        "id": "d2wG9HLImWnK"
      },
      "execution_count": null,
      "outputs": []
    },
    {
      "cell_type": "code",
      "source": [
        "!pip install -U -q PyDrive\n",
        "\n",
        "from pydrive.auth import GoogleAuth\n",
        "from pydrive.drive import GoogleDrive\n",
        "from google.colab import auth\n",
        "from oauth2client.client import GoogleCredentials\n",
        "\n",
        "auth.authenticate_user()\n",
        "gauth = GoogleAuth()\n",
        "gauth.credentials = GoogleCredentials.get_application_default()\n",
        "drive = GoogleDrive(gauth)"
      ],
      "metadata": {
        "id": "gjpd-IWIS_Qc"
      },
      "execution_count": null,
      "outputs": []
    },
    {
      "cell_type": "code",
      "source": [
        "# https://drive.google.com/file/d/142onsA72meq-7g02yOauJ6vWUZ8MxM43/view?usp=sharing\n",
        "id = \"142onsA72meq-7g02yOauJ6vWUZ8MxM43\"\n",
        "file = drive.CreateFile({'id':id})\n",
        "file.GetContentFile('kaggle.json')"
      ],
      "metadata": {
        "id": "d8edyYx6mtGI"
      },
      "execution_count": null,
      "outputs": []
    },
    {
      "cell_type": "code",
      "source": [
        "!pip install -q kaggle\n",
        "!mkdir -p ~/.kaggle\n",
        "\n",
        "!cp kaggle.json ~/.kaggle/\n",
        "\n",
        "!chmod 600 ~/.kaggle/kaggle.json\n",
        "\n",
        "!kaggle datasets download -d hernan4444/anime-recommendation-database-2020\n",
        "!unzip anime-recommendation-database-2020.zip"
      ],
      "metadata": {
        "id": "RRJsC_hJULxC",
        "colab": {
          "base_uri": "https://localhost:8080/"
        },
        "outputId": "815aafcc-73b3-4124-b1c8-39f529cf3166"
      },
      "execution_count": null,
      "outputs": [
        {
          "output_type": "stream",
          "name": "stdout",
          "text": [
            "Downloading anime-recommendation-database-2020.zip to /content\n",
            " 99% 654M/661M [00:05<00:00, 75.3MB/s]\n",
            "100% 661M/661M [00:05<00:00, 123MB/s] \n",
            "Archive:  anime-recommendation-database-2020.zip\n",
            "  inflating: anime.csv               \n",
            "  inflating: anime_with_synopsis.csv  \n",
            "  inflating: animelist.csv           \n",
            "  inflating: html folder/html/1/details.html  \n",
            "  inflating: html folder/html/1/pictures.html  \n",
            "  inflating: html folder/html/1/recomendations.html  \n",
            "  inflating: html folder/html/1/reviews_1.html  \n",
            "  inflating: html folder/html/1/reviews_10.html  \n",
            "  inflating: html folder/html/1/reviews_11.html  \n",
            "  inflating: html folder/html/1/reviews_12.html  \n",
            "  inflating: html folder/html/1/reviews_13.html  \n",
            "  inflating: html folder/html/1/reviews_14.html  \n",
            "  inflating: html folder/html/1/reviews_15.html  \n",
            "  inflating: html folder/html/1/reviews_16.html  \n",
            "  inflating: html folder/html/1/reviews_17.html  \n",
            "  inflating: html folder/html/1/reviews_18.html  \n",
            "  inflating: html folder/html/1/reviews_19.html  \n",
            "  inflating: html folder/html/1/reviews_2.html  \n",
            "  inflating: html folder/html/1/reviews_20.html  \n",
            "  inflating: html folder/html/1/reviews_21.html  \n",
            "  inflating: html folder/html/1/reviews_22.html  \n",
            "  inflating: html folder/html/1/reviews_3.html  \n",
            "  inflating: html folder/html/1/reviews_4.html  \n",
            "  inflating: html folder/html/1/reviews_5.html  \n",
            "  inflating: html folder/html/1/reviews_6.html  \n",
            "  inflating: html folder/html/1/reviews_7.html  \n",
            "  inflating: html folder/html/1/reviews_8.html  \n",
            "  inflating: html folder/html/1/reviews_9.html  \n",
            "  inflating: html folder/html/1/staff.html  \n",
            "  inflating: html folder/html/1/stats.html  \n",
            "  inflating: html folder/html/5/details.html  \n",
            "  inflating: html folder/html/5/pictures.html  \n",
            "  inflating: html folder/html/5/recomendations.html  \n",
            "  inflating: html folder/html/5/reviews_1.html  \n",
            "  inflating: html folder/html/5/reviews_2.html  \n",
            "  inflating: html folder/html/5/reviews_3.html  \n",
            "  inflating: html folder/html/5/staff.html  \n",
            "  inflating: html folder/html/5/stats.html  \n",
            "  inflating: html folder/instructions.txt  \n",
            "  inflating: rating_complete.csv     \n",
            "  inflating: watching_status.csv     \n"
          ]
        }
      ]
    },
    {
      "cell_type": "markdown",
      "source": [
        "## Datasets"
      ],
      "metadata": {
        "id": "kczQMlKVmq-k"
      }
    },
    {
      "cell_type": "code",
      "source": [
        "ratings_df = spark.read.load(\"rating_complete.csv\", format='csv', header = True)"
      ],
      "metadata": {
        "id": "j8Oq4q2YU49h"
      },
      "execution_count": null,
      "outputs": []
    },
    {
      "cell_type": "code",
      "source": [
        "ratings_df = ratings_df.limit(1000000)\n",
        "ratings_df.count()"
      ],
      "metadata": {
        "colab": {
          "base_uri": "https://localhost:8080/"
        },
        "id": "g4_K-mz-gfvP",
        "outputId": "5f2a5019-2b33-441f-a458-2e44e696fbf7"
      },
      "execution_count": null,
      "outputs": [
        {
          "output_type": "execute_result",
          "data": {
            "text/plain": [
              "1000000"
            ]
          },
          "metadata": {},
          "execution_count": 39
        }
      ]
    },
    {
      "cell_type": "code",
      "source": [
        "animes_df = spark.read.load(\"anime.csv\", format='csv', header = True)\n",
        "animes_df = animes_df.withColumnRenamed(\"MAL_ID\", \"anime_id\")\n",
        "animes_df.show(5)"
      ],
      "metadata": {
        "colab": {
          "base_uri": "https://localhost:8080/"
        },
        "id": "ayvkqUruaKS7",
        "outputId": "07b14e08-dffd-4b62-b481-2583d4c8716c"
      },
      "execution_count": null,
      "outputs": [
        {
          "output_type": "stream",
          "name": "stdout",
          "text": [
            "+--------+--------------------+-----+--------------------+--------------------+---------------------------+-----+--------+--------------------+-----------+--------------------+--------------------+--------------+--------+---------------+--------------------+------+----------+-------+---------+--------+---------+-------+-------+-------------+--------+--------+--------+-------+-------+-------+-------+-------+-------+-------+\n",
            "|anime_id|                Name|Score|              Genres|        English name|              Japanese name| Type|Episodes|               Aired|  Premiered|           Producers|           Licensors|       Studios|  Source|       Duration|              Rating|Ranked|Popularity|Members|Favorites|Watching|Completed|On-Hold|Dropped|Plan to Watch|Score-10| Score-9| Score-8|Score-7|Score-6|Score-5|Score-4|Score-3|Score-2|Score-1|\n",
            "+--------+--------------------+-----+--------------------+--------------------+---------------------------+-----+--------+--------------------+-----------+--------------------+--------------------+--------------+--------+---------------+--------------------+------+----------+-------+---------+--------+---------+-------+-------+-------------+--------+--------+--------+-------+-------+-------+-------+-------+-------+-------+\n",
            "|       1|        Cowboy Bebop| 8.78|Action, Adventure...|        Cowboy Bebop|         カウボーイビバップ|   TV|      26|Apr 3, 1998 to Ap...|Spring 1998|       Bandai Visual|Funimation, Banda...|       Sunrise|Original|24 min. per ep.|R - 17+ (violence...|  28.0|        39|1251960|    61971|  105808|   718161|  71513|  26678|       329800|229170.0|182126.0|131625.0|62330.0|20688.0| 8904.0| 3184.0| 1357.0|  741.0| 1580.0|\n",
            "|       5|Cowboy Bebop: Ten...| 8.39|Action, Drama, My...|Cowboy Bebop:The ...|カウボーイビバップ 天国の扉|Movie|       1|         Sep 1, 2001|    Unknown|Sunrise, Bandai V...|Sony Pictures Ent...|         Bones|Original|  1 hr. 55 min.|R - 17+ (violence...| 159.0|       518| 273145|     1174|    4143|   208333|   1935|    770|        57964| 30043.0| 49201.0| 49505.0|22632.0| 5805.0| 1877.0|  577.0|  221.0|  109.0|  379.0|\n",
            "|       6|              Trigun| 8.24|Action, Sci-Fi, A...|              Trigun|                 トライガン|   TV|      26|Apr 1, 1998 to Se...|Spring 1998|Victor Entertainment|Funimation, Geneo...|      Madhouse|   Manga|24 min. per ep.|PG-13 - Teens 13 ...| 266.0|       201| 558913|    12944|   29113|   343492|  25465|  13925|       146918| 50229.0| 75651.0| 86142.0|49432.0|15376.0| 5838.0| 1965.0|  664.0|  316.0|  533.0|\n",
            "|       7|  Witch Hunter Robin| 7.27|Action, Mystery, ...|  Witch Hunter Robin|       Witch Hunter ROBI...|   TV|      26|Jul 2, 2002 to De...|Summer 2002|TV Tokyo, Bandai ...|Funimation, Banda...|       Sunrise|Original|25 min. per ep.|PG-13 - Teens 13 ...|2481.0|      1467|  94683|      587|    4300|    46165|   5121|   5378|        33719|  2182.0|  4806.0| 10128.0|11618.0| 5709.0| 2920.0| 1083.0|  353.0|  164.0|  131.0|\n",
            "|       8|      Bouken Ou Beet| 6.98|Adventure, Fantas...|Beet the Vandel B...|               冒険王ビィト|   TV|      52|Sep 30, 2004 to S...|  Fall 2004|    TV Tokyo, Dentsu|             Unknown|Toei Animation|   Manga|23 min. per ep.|       PG - Children|3710.0|      4369|  13224|       18|     642|     7314|    766|   1108|         3394|   312.0|   529.0|  1242.0| 1713.0| 1068.0|  634.0|  265.0|   83.0|   50.0|   27.0|\n",
            "+--------+--------------------+-----+--------------------+--------------------+---------------------------+-----+--------+--------------------+-----------+--------------------+--------------------+--------------+--------+---------------+--------------------+------+----------+-------+---------+--------+---------+-------+-------+-------------+--------+--------+--------+-------+-------+-------+-------+-------+-------+-------+\n",
            "only showing top 5 rows\n",
            "\n"
          ]
        }
      ]
    },
    {
      "cell_type": "code",
      "source": [
        "ratings_df.show(5)"
      ],
      "metadata": {
        "colab": {
          "base_uri": "https://localhost:8080/"
        },
        "id": "26q7W3WyYFsx",
        "outputId": "55d15c81-07c3-417e-d628-e1b09532777b"
      },
      "execution_count": null,
      "outputs": [
        {
          "output_type": "stream",
          "name": "stdout",
          "text": [
            "+-------+--------+------+\n",
            "|user_id|anime_id|rating|\n",
            "+-------+--------+------+\n",
            "|      0|     430|     9|\n",
            "|      0|    1004|     5|\n",
            "|      0|    3010|     7|\n",
            "|      0|     570|     7|\n",
            "|      0|    2762|     9|\n",
            "+-------+--------+------+\n",
            "only showing top 5 rows\n",
            "\n"
          ]
        }
      ]
    },
    {
      "cell_type": "code",
      "source": [
        "tmp1 = ratings_df.groupBy(\"user_id\").count().toPandas()['count'].min()\n",
        "tmp2 = ratings_df.groupBy(\"anime_id\").count().toPandas()['count'].min()\n",
        "print('Minimum number of recs per user is {}.'.format(tmp1))\n",
        "print('Minimum number of recs per anime is {}.'.format(tmp2))"
      ],
      "metadata": {
        "colab": {
          "base_uri": "https://localhost:8080/"
        },
        "id": "z7cwyIftYxYJ",
        "outputId": "0199d0a5-8a29-4d53-f5d7-d962a7476e0c"
      },
      "execution_count": null,
      "outputs": [
        {
          "output_type": "stream",
          "name": "stdout",
          "text": [
            "Minimum number of recs per user is 1.\n",
            "Minimum number of recs per anime is 1.\n"
          ]
        }
      ]
    },
    {
      "cell_type": "code",
      "source": [
        "tmp1 = sum(ratings_df.groupBy(\"anime_id\").count().toPandas()['count'] == 1)\n",
        "tmp2 = ratings_df.select('anime_id').distinct().count()\n",
        "print('{} out of {} animes are rated by only one user.'.format(tmp1, tmp2))"
      ],
      "metadata": {
        "colab": {
          "base_uri": "https://localhost:8080/"
        },
        "id": "VTwigMOzuQQN",
        "outputId": "3d5f9824-a205-43e9-89a1-428472c9e3d7"
      },
      "execution_count": null,
      "outputs": [
        {
          "output_type": "stream",
          "name": "stdout",
          "text": [
            "1737 out of 12155 animes are rated by only one user.\n"
          ]
        }
      ]
    },
    {
      "cell_type": "markdown",
      "source": [
        "# 2. OLAP"
      ],
      "metadata": {
        "id": "DzM442oq3Sog"
      }
    },
    {
      "cell_type": "code",
      "source": [
        "ratings_df.registerTempTable(\"ratings\")\n",
        "animes_df.registerTempTable(\"animes\")"
      ],
      "metadata": {
        "colab": {
          "base_uri": "https://localhost:8080/"
        },
        "id": "KVsUK13p3WXr",
        "outputId": "624007cf-87f0-48b5-e90e-e76c807bfdae"
      },
      "execution_count": null,
      "outputs": [
        {
          "output_type": "stream",
          "name": "stderr",
          "text": [
            "/content/spark-3.5.0-bin-hadoop3/python/pyspark/sql/dataframe.py:329: FutureWarning: Deprecated in 2.0, use createOrReplaceTempView instead.\n",
            "  warnings.warn(\"Deprecated in 2.0, use createOrReplaceTempView instead.\", FutureWarning)\n"
          ]
        }
      ]
    },
    {
      "cell_type": "code",
      "source": [
        "nuser=spark.sql('SELECT COUNT(DISTINCT user_id) ' +\\\n",
        "                'FROM ratings'\n",
        "                ).toPandas()\n",
        "print('Total number of users is ',nuser.iloc[0,0])"
      ],
      "metadata": {
        "colab": {
          "base_uri": "https://localhost:8080/"
        },
        "id": "FvhGsR--5yrD",
        "outputId": "73697acf-96b0-4947-f97d-68418db5f6dd"
      },
      "execution_count": null,
      "outputs": [
        {
          "output_type": "stream",
          "name": "stdout",
          "text": [
            "Total number of users is  5616\n"
          ]
        }
      ]
    },
    {
      "cell_type": "code",
      "source": [
        "genre_sep=udf(lambda x: x.split(', '),ArrayType(StringType()))\n",
        "spark.udf.register('genre_sep',genre_sep)\n",
        "spark.sql('SELECT DISTINCT genres_listTable ' +\n",
        "          'FROM (SELECT EXPLODE(genre_sep(Genres)) AS genres_listTable FROM animes) temp ' +\n",
        "          'WHERE genres_listTable IS NOT NULL AND genres_listTable != \"\" ' +\n",
        "          'AND genres_listTable RLIKE \"^[a-zA-Z]+$\" ' +\n",
        "          'ORDER BY 1').show()"
      ],
      "metadata": {
        "colab": {
          "base_uri": "https://localhost:8080/"
        },
        "id": "yLU8v-6O628G",
        "outputId": "cd8012e5-a13c-43fa-aae0-15e253b48cc8"
      },
      "execution_count": null,
      "outputs": [
        {
          "output_type": "stream",
          "name": "stdout",
          "text": [
            "+----------------+\n",
            "|genres_listTable|\n",
            "+----------------+\n",
            "|          Action|\n",
            "|       Adventure|\n",
            "|            Cars|\n",
            "|          Comedy|\n",
            "|        Dementia|\n",
            "|          Demons|\n",
            "|           Drama|\n",
            "|           Ecchi|\n",
            "|         Fantasy|\n",
            "|            Game|\n",
            "|           Harem|\n",
            "|          Hentai|\n",
            "|      Historical|\n",
            "|          Horror|\n",
            "|           Josei|\n",
            "|            Kids|\n",
            "|           Magic|\n",
            "|           Mecha|\n",
            "|        Military|\n",
            "|           Music|\n",
            "+----------------+\n",
            "only showing top 20 rows\n",
            "\n"
          ]
        }
      ]
    },
    {
      "cell_type": "code",
      "source": [
        "anime_by_genre=spark.sql('SELECT Name, category ' +\\\n",
        "                         'FROM animes ' +\\\n",
        "                         'LATERAL VIEW EXPLODE(genre_sep(Genres)) AS category')\n",
        "anime_by_genre.createOrReplaceTempView('anime_by_genre')\n",
        "cat_num = spark.sql('SELECT category, COUNT(*) AS number ' +\\\n",
        "          'FROM anime_by_genre  ' +\\\n",
        "          'GROUP BY category  ' +\\\n",
        "          'ORDER BY 2 DESC')\n",
        "cat_num.show()"
      ],
      "metadata": {
        "colab": {
          "base_uri": "https://localhost:8080/"
        },
        "id": "jP8y7J7a8t3Y",
        "outputId": "5bf5f9c3-851b-4142-fe49-cfe28a4b7786"
      },
      "execution_count": null,
      "outputs": [
        {
          "output_type": "stream",
          "name": "stdout",
          "text": [
            "+-------------+------+\n",
            "|     category|number|\n",
            "+-------------+------+\n",
            "|       Comedy|  6027|\n",
            "|       Action|  3888|\n",
            "|      Fantasy|  3285|\n",
            "|    Adventure|  2957|\n",
            "|         Kids|  2664|\n",
            "|        Drama|  2617|\n",
            "|       Sci-Fi|  2583|\n",
            "|        Music|  2244|\n",
            "|      Shounen|  2003|\n",
            "|Slice of Life|  1914|\n",
            "|      Romance|  1899|\n",
            "|       School|  1642|\n",
            "| Supernatural|  1479|\n",
            "|       Hentai|  1347|\n",
            "|   Historical|  1144|\n",
            "|        Mecha|  1101|\n",
            "|        Magic|  1081|\n",
            "|       Seinen|   830|\n",
            "|        Ecchi|   767|\n",
            "|      Mystery|   725|\n",
            "+-------------+------+\n",
            "only showing top 20 rows\n",
            "\n"
          ]
        }
      ]
    },
    {
      "cell_type": "code",
      "source": [
        "plt.figure(figsize=[16,8])\n",
        "plt.barh(y='category',width='number',data=cat_num.toPandas().iloc[:-3,:])\n",
        "plt.title('Anime Categories')\n",
        "plt.show()"
      ],
      "metadata": {
        "colab": {
          "base_uri": "https://localhost:8080/",
          "height": 665
        },
        "id": "LD8Bn2do-V5H",
        "outputId": "654979f6-24ec-4732-e4a4-b39f37402500"
      },
      "execution_count": null,
      "outputs": [
        {
          "output_type": "display_data",
          "data": {
            "text/plain": [
              "<Figure size 1600x800 with 1 Axes>"
            ],
            "image/png": "[encoded data removed]"
          },
          "metadata": {}
        }
      ]
    },
    {
      "cell_type": "markdown",
      "source": [
        "# 3. Spark ALS Model"
      ],
      "metadata": {
        "id": "1VQpVJJ30g_m"
      }
    },
    {
      "cell_type": "markdown",
      "source": [
        "## Datasets"
      ],
      "metadata": {
        "id": "_P92QSF54lnK"
      }
    },
    {
      "cell_type": "code",
      "source": [
        "ratings_df.show()"
      ],
      "metadata": {
        "colab": {
          "base_uri": "https://localhost:8080/"
        },
        "id": "a1JxiqMj0jXd",
        "outputId": "36a41e94-4293-4f39-bfac-15bfcfdf7784"
      },
      "execution_count": null,
      "outputs": [
        {
          "output_type": "stream",
          "name": "stdout",
          "text": [
            "+-------+--------+------+\n",
            "|user_id|anime_id|rating|\n",
            "+-------+--------+------+\n",
            "|      0|     430|     9|\n",
            "|      0|    1004|     5|\n",
            "|      0|    3010|     7|\n",
            "|      0|     570|     7|\n",
            "|      0|    2762|     9|\n",
            "|      0|     431|     8|\n",
            "|      0|     578|    10|\n",
            "|      0|     433|     6|\n",
            "|      0|    1571|    10|\n",
            "|      0|     121|     9|\n",
            "|      0|     356|     9|\n",
            "|      0|    1250|     7|\n",
            "|      0|    2913|     6|\n",
            "|      0|    1689|     6|\n",
            "|      0|      68|     6|\n",
            "|      0|    1829|     7|\n",
            "|      0|     600|     6|\n",
            "|      0|    3418|     9|\n",
            "|      0|     164|     8|\n",
            "|      0|    1894|     7|\n",
            "+-------+--------+------+\n",
            "only showing top 20 rows\n",
            "\n"
          ]
        }
      ]
    },
    {
      "cell_type": "code",
      "source": [
        "from pyspark.sql.types import IntegerType, FloatType\n",
        "\n",
        "anime_ratings = ratings_df.select(*ratings_df.columns)\n",
        "anime_ratings = anime_ratings.withColumn(\"user_id\", anime_ratings[\"user_id\"].cast(IntegerType()))\n",
        "anime_ratings = anime_ratings.withColumn(\"anime_id\", anime_ratings[\"anime_id\"].cast(IntegerType()))\n",
        "anime_ratings = anime_ratings.withColumn(\"rating\", anime_ratings[\"rating\"].cast(FloatType()))\n",
        "anime_ratings.show()"
      ],
      "metadata": {
        "colab": {
          "base_uri": "https://localhost:8080/"
        },
        "id": "HWSah5nm5Szc",
        "outputId": "6f18b591-e1b3-4a57-8e55-30f919f6881a"
      },
      "execution_count": null,
      "outputs": [
        {
          "output_type": "stream",
          "name": "stdout",
          "text": [
            "+-------+--------+------+\n",
            "|user_id|anime_id|rating|\n",
            "+-------+--------+------+\n",
            "|      0|     430|   9.0|\n",
            "|      0|    1004|   5.0|\n",
            "|      0|    3010|   7.0|\n",
            "|      0|     570|   7.0|\n",
            "|      0|    2762|   9.0|\n",
            "|      0|     431|   8.0|\n",
            "|      0|     578|  10.0|\n",
            "|      0|     433|   6.0|\n",
            "|      0|    1571|  10.0|\n",
            "|      0|     121|   9.0|\n",
            "|      0|     356|   9.0|\n",
            "|      0|    1250|   7.0|\n",
            "|      0|    2913|   6.0|\n",
            "|      0|    1689|   6.0|\n",
            "|      0|      68|   6.0|\n",
            "|      0|    1829|   7.0|\n",
            "|      0|     600|   6.0|\n",
            "|      0|    3418|   9.0|\n",
            "|      0|     164|   8.0|\n",
            "|      0|    1894|   7.0|\n",
            "+-------+--------+------+\n",
            "only showing top 20 rows\n",
            "\n"
          ]
        }
      ]
    },
    {
      "cell_type": "code",
      "source": [
        "anime_ratings.describe().show()"
      ],
      "metadata": {
        "colab": {
          "base_uri": "https://localhost:8080/"
        },
        "id": "V8Rn87LgQndD",
        "outputId": "693c88a2-0453-496c-c800-47221d6a83e5"
      },
      "execution_count": null,
      "outputs": [
        {
          "output_type": "stream",
          "name": "stdout",
          "text": [
            "+-------+------------------+------------------+------------------+\n",
            "|summary|           user_id|          anime_id|            rating|\n",
            "+-------+------------------+------------------+------------------+\n",
            "|  count|           1000000|           1000000|           1000000|\n",
            "|   mean|       3231.437798|      15840.059475|          7.546965|\n",
            "| stddev|1884.6999471164768|13240.849621290718|1.6752059858686512|\n",
            "|    min|                 0|                 1|               1.0|\n",
            "|    max|              6434|             48456|              10.0|\n",
            "+-------+------------------+------------------+------------------+\n",
            "\n"
          ]
        }
      ]
    },
    {
      "cell_type": "code",
      "source": [
        "anime_ratings.select('user_id').distinct().count()"
      ],
      "metadata": {
        "colab": {
          "base_uri": "https://localhost:8080/"
        },
        "id": "E0rzVFeZKQhF",
        "outputId": "4ce38391-c712-4a47-bd4f-0e23a25f082d"
      },
      "execution_count": null,
      "outputs": [
        {
          "output_type": "execute_result",
          "data": {
            "text/plain": [
              "5616"
            ]
          },
          "metadata": {},
          "execution_count": 52
        }
      ]
    },
    {
      "cell_type": "code",
      "source": [
        "anime_ratings.select('anime_id').distinct().count()"
      ],
      "metadata": {
        "colab": {
          "base_uri": "https://localhost:8080/"
        },
        "id": "Y9zlKUV8Kc31",
        "outputId": "2316641b-1c33-4c19-930e-28f93d222e6c"
      },
      "execution_count": null,
      "outputs": [
        {
          "output_type": "execute_result",
          "data": {
            "text/plain": [
              "12155"
            ]
          },
          "metadata": {},
          "execution_count": 53
        }
      ]
    },
    {
      "cell_type": "code",
      "source": [
        "plt.title('Ratings Distribution')\n",
        "sns.histplot(data=anime_ratings.toPandas(), x='rating')"
      ],
      "metadata": {
        "colab": {
          "base_uri": "https://localhost:8080/",
          "height": 490
        },
        "id": "4DdBKqK8OEgI",
        "outputId": "bd7f0f92-7e0a-43e5-83b6-2e55c38ae20f"
      },
      "execution_count": null,
      "outputs": [
        {
          "output_type": "execute_result",
          "data": {
            "text/plain": [
              "<Axes: title={'center': 'Ratings Distribution'}, xlabel='rating', ylabel='Count'>"
            ]
          },
          "metadata": {},
          "execution_count": 54
        },
        {
          "output_type": "display_data",
          "data": {
            "text/plain": [
              "<Figure size 640x480 with 1 Axes>"
            ],
            "image/png": "[encoded data removed]"
          },
          "metadata": {}
        }
      ]
    },
    {
      "cell_type": "markdown",
      "source": [
        "## ALS Model Selection"
      ],
      "metadata": {
        "id": "quDV6wS07eq_"
      }
    },
    {
      "cell_type": "code",
      "source": [
        "from pyspark.ml.evaluation import RegressionEvaluator\n",
        "from pyspark.ml.recommendation import ALS\n",
        "from pyspark.ml.tuning import CrossValidator,ParamGridBuilder"
      ],
      "metadata": {
        "id": "MPomeaqb7fp8"
      },
      "execution_count": null,
      "outputs": []
    },
    {
      "cell_type": "code",
      "source": [
        "(training,test) = anime_ratings.randomSplit([0.8,0.2])\n",
        "model_als = ALS(maxIter=5, rank=3, regParam=0.01, userCol=\"user_id\", itemCol=\"anime_id\", ratingCol=\"rating\",\n",
        "          coldStartStrategy=\"drop\", seed=6)"
      ],
      "metadata": {
        "id": "xIgAQMKS7q2C"
      },
      "execution_count": null,
      "outputs": []
    },
    {
      "cell_type": "code",
      "source": [
        "#Tune model using ParamGridBuilder\n",
        "params = ParamGridBuilder()\\\n",
        "            .addGrid(model_als.maxIter, [15, 20])\\\n",
        "            .addGrid(model_als.regParam, [0.1, 0.05])\\\n",
        "            .addGrid(model_als.alpha, [1, 0.5])\\\n",
        "            .build()\n",
        "\n",
        "# Define evaluator as RMSE\n",
        "evaluator = RegressionEvaluator(metricName=\"rmse\", labelCol=\"rating\",\n",
        "                                predictionCol=\"prediction\")\n",
        "\n",
        "\n",
        "# Build Cross validation\n",
        "cv = CrossValidator(estimator=model_als, estimatorParamMaps=params, evaluator=evaluator, numFolds=3, seed=6)\n",
        "\n",
        "\n",
        "#Fit ALS model to training data\n",
        "cvModel = cv.fit(training)\n",
        "\n",
        "\n",
        "#Extract best model from the tuning exercise using ParamGridBuilder\n",
        "bestModel=cvModel.bestModel\n",
        "\n",
        "# Check the best parameters\n",
        "best_params = cvModel.getEstimatorParamMaps()[np.argmin(cvModel.avgMetrics)]\n",
        "print('Best ALS model parameters by CV:')\n",
        "for i,j in best_params.items():\n",
        "  print('-> '+i.name+': '+str(j))"
      ],
      "metadata": {
        "colab": {
          "base_uri": "https://localhost:8080/"
        },
        "id": "LBf_RCdK77dA",
        "outputId": "14318af9-88e7-4fe2-c5f4-133eea50f1c3"
      },
      "execution_count": null,
      "outputs": [
        {
          "output_type": "stream",
          "name": "stdout",
          "text": [
            "Best ALS model parameters by CV:\n",
            "-> maxIter: 20\n",
            "-> regParam: 0.1\n",
            "-> alpha: 1.0\n"
          ]
        }
      ]
    },
    {
      "cell_type": "code",
      "source": [
        "#Extract best model from the tuning exercise using ParamGridBuilder\n",
        "prediction_train=cvModel.transform(training)\n",
        "rmse_train = evaluator.evaluate(prediction_train)\n",
        "print(\"Root-mean-square error for training data is \" + str(rmse_train))"
      ],
      "metadata": {
        "id": "rqLlycTbMiFn",
        "colab": {
          "base_uri": "https://localhost:8080/"
        },
        "outputId": "3606e8b9-d71d-48c1-eb46-e408b17b6f8e"
      },
      "execution_count": null,
      "outputs": [
        {
          "output_type": "stream",
          "name": "stdout",
          "text": [
            "Root-mean-square error for training data is 1.12583823904355\n"
          ]
        }
      ]
    },
    {
      "cell_type": "markdown",
      "source": [
        "## Model Testing"
      ],
      "metadata": {
        "id": "liLSRKYmNNUI"
      }
    },
    {
      "cell_type": "code",
      "source": [
        "#Generate predictions and evaluate using RMSE\n",
        "predictions=bestModel.transform(test)\n",
        "rmse = evaluator.evaluate(predictions)\n",
        "print (\"RMSE = \"+str(rmse))\n",
        "print (\"**Best Model**\")\n",
        "print (\" Rank: \", str(bestModel._java_obj.parent().getRank())),\n",
        "print (\" MaxIter: \", str(bestModel._java_obj.parent().getMaxIter())),\n",
        "print (\" RegParam: \", str(bestModel._java_obj.parent().getRegParam()))\n",
        "print (\" Alpha: \", str(bestModel._java_obj.parent().getAlpha()))"
      ],
      "metadata": {
        "id": "CIcnlWY4NM5P",
        "colab": {
          "base_uri": "https://localhost:8080/"
        },
        "outputId": "9970a0d7-d522-42c4-d7d9-2eed9606e816"
      },
      "execution_count": null,
      "outputs": [
        {
          "output_type": "stream",
          "name": "stdout",
          "text": [
            "RMSE = 1.2016915709670777\n",
            "**Best Model**\n",
            " Rank:  3\n",
            " MaxIter:  20\n",
            " RegParam:  0.1\n",
            " Alpha:  1.0\n"
          ]
        }
      ]
    },
    {
      "cell_type": "code",
      "source": [
        "predictions.show()"
      ],
      "metadata": {
        "id": "QEpvSJ1FNkZZ",
        "colab": {
          "base_uri": "https://localhost:8080/"
        },
        "outputId": "b7ee8e6d-2a8a-4d12-b7af-52bf817a64bc"
      },
      "execution_count": null,
      "outputs": [
        {
          "output_type": "stream",
          "name": "stdout",
          "text": [
            "+-------+--------+------+----------+\n",
            "|user_id|anime_id|rating|prediction|\n",
            "+-------+--------+------+----------+\n",
            "|      0|     121|   9.0| 7.8304367|\n",
            "|      0|     415|  10.0|  6.213599|\n",
            "|      0|    1689|   6.0|  7.385298|\n",
            "|      0|    1829|   7.0|  7.179881|\n",
            "|      0|    2236|  10.0|  7.878737|\n",
            "|      0|    2248|   6.0|  6.625986|\n",
            "|      0|    2547|   7.0| 7.4378424|\n",
            "|      0|    3010|   7.0|  6.980242|\n",
            "|      1|    5081|   8.0|  8.462769|\n",
            "|      1|    6325|   7.0| 7.0528073|\n",
            "|      1|   11577|  10.0|  8.476278|\n",
            "|      1|   14813|   8.0|  7.985963|\n",
            "|      1|   16894|   7.0|  8.277901|\n",
            "|      1|   18689|   8.0|   8.24232|\n",
            "|      1|   18753|   7.0|  7.464221|\n",
            "|      1|   19815|   8.0|   7.99089|\n",
            "|      1|   28171|   8.0|   8.27924|\n",
            "|      1|   28851|   9.0|  9.039779|\n",
            "|      1|   30831|   7.0|  8.008764|\n",
            "|      1|   31043|   9.0|  8.299759|\n",
            "+-------+--------+------+----------+\n",
            "only showing top 20 rows\n",
            "\n"
          ]
        }
      ]
    },
    {
      "cell_type": "markdown",
      "source": [
        "## Model Apply and Performance"
      ],
      "metadata": {
        "id": "TovhuxWOZUKg"
      }
    },
    {
      "cell_type": "code",
      "source": [
        "alldata = bestModel.transform(anime_ratings)\n",
        "rmse = evaluator.evaluate(alldata)\n",
        "print (\"RMSE = \"+str(rmse))"
      ],
      "metadata": {
        "id": "LktsPHDGZU3g",
        "colab": {
          "base_uri": "https://localhost:8080/"
        },
        "outputId": "4057ae71-a1ed-4f73-dc9c-674d031c8f22"
      },
      "execution_count": null,
      "outputs": [
        {
          "output_type": "stream",
          "name": "stdout",
          "text": [
            "RMSE = 1.1413648606408018\n"
          ]
        }
      ]
    },
    {
      "cell_type": "code",
      "source": [
        "alldata.registerTempTable(\"alldata\")"
      ],
      "metadata": {
        "id": "j6G19sRfZnY5",
        "colab": {
          "base_uri": "https://localhost:8080/"
        },
        "outputId": "373876dd-9162-4f36-9312-14b29d5b86e2"
      },
      "execution_count": null,
      "outputs": [
        {
          "output_type": "stream",
          "name": "stderr",
          "text": [
            "/content/spark-3.5.0-bin-hadoop3/python/pyspark/sql/dataframe.py:329: FutureWarning: Deprecated in 2.0, use createOrReplaceTempView instead.\n",
            "  warnings.warn(\"Deprecated in 2.0, use createOrReplaceTempView instead.\", FutureWarning)\n"
          ]
        }
      ]
    },
    {
      "cell_type": "code",
      "source": [
        "spark.sql(\"Select * From alldata\").show()"
      ],
      "metadata": {
        "id": "zBal4VI3ZtCO",
        "colab": {
          "base_uri": "https://localhost:8080/"
        },
        "outputId": "c7927249-fbbd-449c-8cdc-331fb28f02fb"
      },
      "execution_count": null,
      "outputs": [
        {
          "output_type": "stream",
          "name": "stdout",
          "text": [
            "+-------+--------+------+----------+\n",
            "|user_id|anime_id|rating|prediction|\n",
            "+-------+--------+------+----------+\n",
            "|      0|     430|   9.0| 7.5046844|\n",
            "|      0|    1004|   5.0| 7.0918083|\n",
            "|      0|    3010|   7.0|  6.980242|\n",
            "|      0|     570|   7.0|  7.069558|\n",
            "|      0|    2762|   9.0|  8.044738|\n",
            "|      0|     431|   8.0| 8.1034355|\n",
            "|      0|     578|  10.0|  7.783364|\n",
            "|      0|     433|   6.0| 7.6950927|\n",
            "|      0|    1571|  10.0|  7.572386|\n",
            "|      0|     121|   9.0| 7.8304367|\n",
            "|      0|     356|   9.0|  7.324508|\n",
            "|      0|    1250|   7.0| 7.0862827|\n",
            "|      0|    2913|   6.0| 6.5910883|\n",
            "|      0|    1689|   6.0|  7.385298|\n",
            "|      0|      68|   6.0| 7.1770926|\n",
            "|      0|    1829|   7.0|  7.179881|\n",
            "|      0|     600|   6.0| 5.5921984|\n",
            "|      0|    3418|   9.0|  8.416864|\n",
            "|      0|     164|   8.0|  7.994555|\n",
            "|      0|    1894|   7.0|  6.526926|\n",
            "+-------+--------+------+----------+\n",
            "only showing top 20 rows\n",
            "\n"
          ]
        }
      ]
    },
    {
      "cell_type": "code",
      "source": [
        "spark.sql('SELECT * ' +\\\n",
        "          'FROM animes ' +\\\n",
        "\t          'JOIN alldata ON animes.anime_id = alldata.anime_id').show()"
      ],
      "metadata": {
        "id": "oAivTK8iZ9VL",
        "colab": {
          "base_uri": "https://localhost:8080/"
        },
        "outputId": "ee99f0d6-ef09-47bc-aae5-6a23f7c8e022"
      },
      "execution_count": null,
      "outputs": [
        {
          "output_type": "stream",
          "name": "stdout",
          "text": [
            "+--------+--------------------+-----+--------------------+--------------------+--------------------------------------+-----+--------+--------------------+-----------+--------------------+--------------------+--------------------+------------+---------------+--------------------+-------+----------+-------+---------+--------+---------+-------+-------+-------------+--------+--------+--------+--------+-------+-------+-------+-------+-------+-------+-------+--------+------+----------+\n",
            "|anime_id|                Name|Score|              Genres|        English name|                         Japanese name| Type|Episodes|               Aired|  Premiered|           Producers|           Licensors|             Studios|      Source|       Duration|              Rating| Ranked|Popularity|Members|Favorites|Watching|Completed|On-Hold|Dropped|Plan to Watch|Score-10| Score-9| Score-8| Score-7|Score-6|Score-5|Score-4|Score-3|Score-2|Score-1|user_id|anime_id|rating|prediction|\n",
            "+--------+--------------------+-----+--------------------+--------------------+--------------------------------------+-----+--------+--------------------+-----------+--------------------+--------------------+--------------------+------------+---------------+--------------------+-------+----------+-------+---------+--------+---------+-------+-------+-------------+--------+--------+--------+--------+-------+-------+-------+-------+-------+-------+-------+--------+------+----------+\n",
            "|     430|Fullmetal Alchemi...| 7.57|Military, Comedy,...|Fullmetal Alchemi...|劇場版 鋼の錬金術師 シャンバラを征く者|Movie|       1|        Jul 23, 2005|    Unknown|Aniplex, Square E...|          Funimation|               Bones|       Manga|  1 hr. 45 min.|PG-13 - Teens 13 ...| 1361.0|       506| 279946|      704|    2361|   245283|   1253|    776|        30273| 19794.0| 31112.0| 47730.0| 44941.0|20077.0| 8777.0| 4298.0| 1555.0|  812.0|  490.0|      0|     430|   9.0| 7.5046844|\n",
            "|    1004|Kanojo to Kanojo ...| 7.33|Drama, Psychologi...|She and Her Cat:T...|                        彼女と彼女の猫|  OVA|       1|        Apr 19, 2002|    Unknown|             Unknown|ADV Films, Discot...|             Unknown|    Original|         4 min.|        G - All Ages| 2226.0|      1624|  82209|      287|    1162|    62258|    423|    188|        18178|  4811.0|  6014.0| 10739.0| 12709.0| 7064.0| 3611.0|  976.0|  407.0|  191.0|  171.0|      0|    1004|   5.0| 7.0918083|\n",
            "|    3010|      Kaiketsu Zorro| 7.23|Adventure, Histor...|The Magnificent Z...|                              快傑ゾロ|   TV|      52|Apr 5, 1996 to Ap...|Spring 1996|                Toho|             Unknown|     Ashi Production|       Other|24 min. per ep.|PG-13 - Teens 13 ...| 2655.0|      5104|   9044|       55|     300|     6238|    325|    451|         1730|   469.0|   499.0|   947.0|  1389.0|  822.0|  403.0|   89.0|   43.0|   26.0|   14.0|      0|    3010|   7.0|  6.980242|\n",
            "|     570|             Jin-Rou| 7.79|Military, Police,...|Jin-Roh:The Wolf ...|                          人狼 JIN-ROH|Movie|       1|         Jun 3, 2000|    Unknown|             Unknown|Bandai Entertainm...|      Production I.G|       Manga|  1 hr. 42 min.|R - 17+ (violence...|  846.0|      1181| 124856|     1359|    3005|    72439|   1078|    612|        47722|  6381.0| 11407.0| 18187.0| 13046.0| 5051.0| 2131.0|  826.0|  288.0|  131.0|  113.0|      0|     570|   7.0|  7.069558|\n",
            "|    2762|      Igano Kabamaru| 7.87|Action, Adventure...|             Unknown|                          伊賀野カバ丸|   TV|      24|Oct 20, 1983 to M...|  Fall 1983|                Toho|             Unknown|           Group TAC|       Manga|23 min. per ep.|PG-13 - Teens 13 ...|  715.0|      5153|   8759|      121|     360|     4192|    317|    374|         3516|   768.0|   589.0|   839.0|   654.0|  340.0|  157.0|   52.0|   42.0|   23.0|   35.0|      0|    2762|   9.0|  8.044738|\n",
            "|     431| Howl no Ugoku Shiro| 8.67|Adventure, Drama,...|Howl's Moving Castle|                        ハウルの動く城|Movie|       1|        Nov 20, 2004|    Unknown|d-rights, Tokuma ...| Walt Disney Studios|       Studio Ghibli|       Novel|  1 hr. 59 min.|        G - All Ages|   51.0|        98| 847414|    17845|    8733|   754791|   2283|    947|        80660|186983.0|167309.0|137336.0| 62317.0|18427.0| 6427.0| 2246.0|  737.0|  351.0|  668.0|      0|     431|   8.0| 8.1034355|\n",
            "|     578|      Hotaru no Haka| 8.51|   Drama, Historical|Grave of the Fire...|                            火垂るの墓|Movie|       1|        Apr 16, 1988|    Unknown|             Unknown|ADV Films, Centra...|       Studio Ghibli|       Novel|  1 hr. 28 min.|PG-13 - Teens 13 ...|   99.0|       293| 438214|     5407|    5927|   328347|   2713|   1249|        99978| 79553.0| 69811.0| 61996.0| 30066.0|11694.0| 4975.0| 2350.0|  953.0|  539.0|  845.0|      0|     578|  10.0|  7.783364|\n",
            "|     433|Kumo no Mukou, Ya...| 7.56|Drama, Military, ...|The Place Promise...|                雲のむこう、約束の場所|Movie|       1|        Nov 20, 2004|    Unknown|             Unknown|           ADV Films|    CoMix Wave Films|    Original|  1 hr. 30 min.|PG-13 - Teens 13 ...| 1393.0|       846| 177428|      726|    4337|    98242|   2083|   1145|        71621|  8563.0| 13665.0| 20929.0| 18793.0| 9152.0| 4316.0| 1916.0|  779.0|  322.0|  229.0|      0|     433|   6.0| 7.6950927|\n",
            "|    1571|          Ghost Hunt| 7.81|Mystery, Comedy, ...|          Ghost Hunt|                        ゴーストハント|   TV|      25|Oct 4, 2006 to Ma...|  Fall 2006|TV Tokyo, Avex En...|          Funimation|           J.C.Staff| Light novel|25 min. per ep.|PG-13 - Teens 13 ...|  811.0|       766| 194354|     3014|    8115|   107324|   7112|   6964|        64839| 11328.0| 16683.0| 24977.0| 20383.0| 8600.0| 4079.0| 1375.0|  509.0|  203.0|  235.0|      0|    1571|  10.0|  7.572386|\n",
            "|     121| Fullmetal Alchemist| 8.17|Action, Adventure...| Fullmetal Alchemist|                          鋼の錬金術師|   TV|      51|Oct 4, 2003 to Oc...|  Fall 2003|Aniplex, Dentsu, ...|Funimation, Anipl...|               Bones|       Manga|24 min. per ep.|PG-13 - Teens 13 ...|  337.0|        52|1151621|    26564|   52738|   880215|  41631|  38693|       138344|124399.0|176993.0|211302.0|133850.0|44438.0|16255.0| 5872.0| 1769.0|  970.0| 1150.0|      0|     121|   9.0| 7.8304367|\n",
            "|     356|     Fate/stay night| 7.34|Action, Supernatu...|     Fate/stay night|                       Fate/stay night|   TV|      24|Jan 7, 2006 to Ju...|Winter 2006|Geneon Universal ...|Sentai Filmworks,...|         Studio Deen|Visual novel|24 min. per ep.|R - 17+ (violence...| 2152.0|       119| 730980|     7011|   29998|   510563|  19938|  23686|       146795| 35378.0| 57284.0|101538.0|107818.0|55337.0|26103.0|13081.0| 5032.0| 2350.0| 1693.0|      0|     356|   9.0|  7.324508|\n",
            "|    1250|     Erementar Gerad|  7.3|Adventure, Comedy...|    Elemental Gelade|                エレメンタルジェレイド|   TV|      26|Apr 5, 2005 to Se...|Spring 2005|TV Tokyo, Geneon ...|Funimation, Disco...|               Xebec|       Manga|24 min. per ep.|PG-13 - Teens 13 ...| 2325.0|      1587|  85305|      497|    3647|    51887|   4082|   4442|        21247|  3279.0|  4969.0|  9868.0| 11831.0| 6331.0| 3267.0| 1125.0|  386.0|  158.0|  103.0|      0|    1250|   7.0| 7.0862827|\n",
            "|    2913|Daisougen no Chii...| 7.01|    Adventure, Drama|Bush Baby, Little...|  大草原の小さな天使　ブッシュベイビー|   TV|      40|Jan 12, 1992 to D...|Winter 1992|             Fuji TV|             Unknown|    Nippon Animation|       Novel|24 min. per ep.|        G - All Ages| 3609.0|      8811|   2020|        3|      74|      727|     74|    114|         1031|    57.0|    54.0|    91.0|   153.0|   93.0|   40.0|   17.0|    4.0|    5.0|    6.0|      0|    2913|   6.0| 6.5910883|\n",
            "|    1689|Byousoku 5 Centim...| 7.73|Drama, Romance, S...|5 Centimeters Per...|                  秒速５センチメートル|Movie|       3|         Mar 3, 2007|    Unknown|             Unknown|ADV Films, Bandai...|    CoMix Wave Films|    Original|22 min. per ep.|PG-13 - Teens 13 ...|  949.0|       136| 695375|     9719|   12529|   524145|   6261|   4580|       147860| 65007.0| 80388.0|107226.0| 86657.0|43552.0|21319.0|10108.0| 3821.0| 2081.0| 1835.0|      0|    1689|   6.0|  7.385298|\n",
            "|      68|      Black Cat (TV)| 7.38|Sci-Fi, Adventure...|           Black Cat|                      ブラックキャット|   TV|      23|Oct 7, 2005 to Ma...|  Fall 2005|GDH, Dentsu, TBS,...|          Funimation|               Gonzo|       Manga|24 min. per ep.|PG-13 - Teens 13 ...| 1965.0|       622| 231668|     1955|   10510|   142921|  11736|  11003|        55498|  8654.0| 15253.0| 29392.0| 34019.0|16081.0| 7534.0| 2521.0|  863.0|  395.0|  234.0|      0|      68|   6.0| 7.1770926|\n",
            "|    1829|           Ged Senki| 6.95|Adventure, Magic,...| Tales from Earthsea|                              ゲド戦記|Movie|       1|        Jul 29, 2006|    Unknown|                Toho| Walt Disney Studios|       Studio Ghibli|       Novel|  1 hr. 55 min.|PG-13 - Teens 13 ...| 3815.0|      1317| 107556|      189|    1082|    83702|    778|    504|        21490|  4527.0|  6868.0| 12931.0| 17433.0|11237.0| 6011.0| 3469.0| 1265.0|  605.0|  336.0|      0|    1829|   7.0|  7.179881|\n",
            "|     600|       Legend of Duo| 4.93|Supernatural, Dra...|             Unknown|                         LEGEND OF DUO|   TV|      12|Apr 21, 2005 to J...|Spring 2005|             Unknown|             Unknown|Radix, Marine Ent...|    Original| 5 min. per ep.|R - 17+ (violence...|10650.0|      4855|  10199|       11|     306|     5464|    242|    703|         3484|   132.0|   142.0|   296.0|   557.0|  663.0|  732.0|  511.0|  410.0|  414.0|  493.0|      0|     600|   6.0| 5.5921984|\n",
            "|    3418|Jungle no Ouja Ta...| 7.01|Action, Comedy, P...|             Unknown|            ジャングルの王者ターちゃん|   TV|      50|Oct 14, 1993 to S...|  Fall 1993|            TV Tokyo|             Unknown|           Group TAC|       Manga|24 min. per ep.|    R+ - Mild Nudity| 3616.0|      9094|   1805|       14|     130|      486|     96|    123|          970|    55.0|    58.0|    77.0|    92.0|   62.0|   21.0|   19.0|   10.0|   10.0|    6.0|      0|    3418|   9.0|  8.416864|\n",
            "|     164|       Mononoke Hime| 8.72|Action, Adventure...|   Princess Mononoke|                            もののけ姫|Movie|       1|        Jul 12, 1997|    Unknown|Tokuma Shoten, Ni...|               GKIDS|       Studio Ghibli|    Original|  2 hr. 15 min.|PG-13 - Teens 13 ...|   40.0|        91| 876813|    17114|   11422|   735624|   3384|   1386|       124997|184173.0|167754.0|131050.0| 57874.0|17052.0| 5570.0| 1660.0|  545.0|  283.0|  702.0|      0|     164|   8.0|  7.994555|\n",
            "|    1894|Yu☆Gi☆Oh!: Hikari...| 6.59|Adventure, Comedy...| Yu-Gi-Oh!:The Movie|   遊☆戯☆王　デュエルモンスターズ　...|Movie|       1|        Aug 13, 2004|    Unknown|    Nihon Ad Systems|4Kids Entertainme...|              Gallop|       Manga|  1 hr. 41 min.|PG-13 - Teens 13 ...| 5423.0|      1973|  61314|       67|     389|    56962|    193|    208|         3562|  2473.0|  2953.0|  6056.0| 10910.0| 8736.0| 5227.0| 2337.0| 1059.0|  578.0|  286.0|      0|    1894|   7.0|  6.526926|\n",
            "+--------+--------------------+-----+--------------------+--------------------+--------------------------------------+-----+--------+--------------------+-----------+--------------------+--------------------+--------------------+------------+---------------+--------------------+-------+----------+-------+---------+--------+---------+-------+-------+-------------+--------+--------+--------+--------+-------+-------+-------+-------+-------+-------+-------+--------+------+----------+\n",
            "only showing top 20 rows\n",
            "\n"
          ]
        }
      ]
    },
    {
      "cell_type": "markdown",
      "source": [
        "## Recommend Anime to User"
      ],
      "metadata": {
        "id": "4ouJGqofdgwL"
      }
    },
    {
      "cell_type": "code",
      "source": [
        "# define a function to package the recommendation\n",
        "def topKRecommend(k,id,model):\n",
        "  '''\n",
        "  k: the number of animes to recommend\n",
        "  id: the id of the user to give recommendations\n",
        "  model: the trained model for recommendation\n",
        "  '''\n",
        "  # the table for all top10 recommendations\n",
        "  all_recommd=model.recommendForAllUsers(k)\n",
        "  user_recommd=all_recommd.where(all_recommd.user_id==id).toPandas()\n",
        "  if user_recommd.shape[0]==0:\n",
        "    print('No user with id '+str(id)+' is found in the data.')\n",
        "    return None\n",
        "  user_recommd=user_recommd.iloc[0,1]\n",
        "  user_recommd=pd.DataFrame(user_recommd,columns=['anime_id','predicted_ratings'])\n",
        "  temp=None\n",
        "  for i in user_recommd['anime_id']:\n",
        "    if not temp:\n",
        "      temp=animes_df.where(animes_df.anime_id==str(i))\n",
        "    else:\n",
        "      temp=temp.union(animes_df.where(animes_df.anime_id==str(i)))\n",
        "  out=pd.concat([temp.toPandas(),user_recommd['predicted_ratings']],axis=1)\n",
        "  out.index=range(1,k+1)\n",
        "  out = pd.concat([out['predicted_ratings'], out.drop(columns=['predicted_ratings'])], axis=1)\n",
        "  out.drop(columns = out.columns[-10:],inplace=True)\n",
        "  return out\n",
        "\n",
        "\n",
        "topKRecommend(10,1,bestModel)"
      ],
      "metadata": {
        "id": "cLh3vD4KdmaC",
        "colab": {
          "base_uri": "https://localhost:8080/",
          "height": 1000
        },
        "outputId": "15cd4c8a-8734-4e20-89b3-c980aa8c3c28"
      },
      "execution_count": null,
      "outputs": [
        {
          "output_type": "execute_result",
          "data": {
            "text/plain": [
              "    predicted_ratings anime_id  \\\n",
              "1            9.997963    33548   \n",
              "2            9.913454      820   \n",
              "3            9.905538    42104   \n",
              "4            9.861882    40587   \n",
              "5            9.834964    33549   \n",
              "6            9.811899    28587   \n",
              "7            9.811899    19231   \n",
              "8            9.725458    39486   \n",
              "9            9.687181     6658   \n",
              "10           9.684940    40028   \n",
              "\n",
              "                                                 Name Score  \\\n",
              "1                                           Babyshiba  5.68   \n",
              "2                                Ginga Eiyuu Densetsu  9.07   \n",
              "3                                     Gisoku no Moses  6.48   \n",
              "4   Precure Miracle Leap Movie: Minna to no Fushig...  6.97   \n",
              "5                          Mame-Mofu Collab Animation  5.51   \n",
              "6                                              Modern  5.06   \n",
              "7                                                 Jam  4.83   \n",
              "8                                  Gintama: The Final  8.88   \n",
              "9      Unko-san: Tsuiteru Hito ni Shika Mienai Yousei  5.35   \n",
              "10               Shingeki no Kyojin: The Final Season  9.17   \n",
              "\n",
              "                                               Genres  \\\n",
              "1                                              Comedy   \n",
              "2                      Military, Sci-Fi, Space, Drama   \n",
              "3                                 Music, Supernatural   \n",
              "4                      Action, Fantasy, Magic, Shoujo   \n",
              "5                                              Comedy   \n",
              "6                                            Dementia   \n",
              "7                            Music, Dementia, Fantasy   \n",
              "8   Action, Sci-Fi, Comedy, Historical, Parody, Dr...   \n",
              "9                                       Comedy, Magic   \n",
              "10  Action, Military, Mystery, Super Power, Drama,...   \n",
              "\n",
              "                     English name               Japanese name     Type  \\\n",
              "1                         Unknown                        ベビしば  Special   \n",
              "2   Legend of the Galactic Heroes                      銀河英雄伝説      OVA   \n",
              "3                         Unknown                    義足のMoses    Music   \n",
              "4                         Unknown  映画プリキュアミラクルリープ みんなとの不思議な1日    Movie   \n",
              "5                         Unknown               豆モフコラボアニメーシヨン      ONA   \n",
              "6                         Unknown                      MODERN    Movie   \n",
              "7                         Unknown                         JAM    Music   \n",
              "8                         Unknown                銀魂 THE FINAL    Movie   \n",
              "9                         Unknown        うんこさん ツイてる人にしか見えない妖精       TV   \n",
              "10   Attack on Titan Final Season      進撃の巨人 The Final Season       TV   \n",
              "\n",
              "   Episodes                         Aired  ...  \\\n",
              "1         7          2011 to Feb 20, 2020  ...   \n",
              "2       110   Jan 8, 1988 to Mar 17, 1997  ...   \n",
              "3         1                  Sep 15, 2013  ...   \n",
              "4         1                  Oct 31, 2020  ...   \n",
              "5         1                          2008  ...   \n",
              "6         1                          2010  ...   \n",
              "7         1                          2009  ...   \n",
              "8         1                   Jan 8, 2021  ...   \n",
              "9        13  Mar 18, 2009 to Jul 20, 2009  ...   \n",
              "10       16              Dec 7, 2020 to ?  ...   \n",
              "\n",
              "                            Rating   Ranked Popularity Members Favorites  \\\n",
              "1                     G - All Ages   9207.0      12230     482         0   \n",
              "2   R - 17+ (violence & profanity)      7.0        633  230168     13834   \n",
              "3                     G - All Ages   5993.0      15172     185         2   \n",
              "4                     G - All Ages   3732.0       9677    1439         4   \n",
              "5                     G - All Ages   9681.0      12786     382         0   \n",
              "6                     G - All Ages  10529.0      11708     592         0   \n",
              "7                     G - All Ages  10751.0      11289     708         1   \n",
              "8        PG-13 - Teens 13 or older     19.0       2987   29811       902   \n",
              "9                    PG - Children  10059.0      11544     630         0   \n",
              "10  R - 17+ (violence & profanity)      2.0        119  733260     44862   \n",
              "\n",
              "   Watching Completed On-Hold Dropped Plan to Watch  \n",
              "1        11       296      14      41           120  \n",
              "2     25968     52583   14911    5950        130756  \n",
              "3         2       166       1       1            15  \n",
              "4        28       286      23      28          1074  \n",
              "5        10       215      13      38           106  \n",
              "6         8       453       6      21           104  \n",
              "7        11       584       4      23            86  \n",
              "8      1465      2640     363     127         25216  \n",
              "9        39       145      27     128           291  \n",
              "10   566239       553    6658    2090        157720  \n",
              "\n",
              "[10 rows x 26 columns]"
            ],
            "text/html": [
              "\n",
              "  <div id=\"df-6ee1e264-a103-47ce-ba03-f76f3a86e58a\" class=\"colab-df-container\">\n",
              "    <div>\n",
              "<style scoped>\n",
              "    .dataframe tbody tr th:only-of-type {\n",
              "        vertical-align: middle;\n",
              "    }\n",
              "\n",
              "    .dataframe tbody tr th {\n",
              "        vertical-align: top;\n",
              "    }\n",
              "\n",
              "    .dataframe thead th {\n",
              "        text-align: right;\n",
              "    }\n",
              "</style>\n",
              "<table border=\"1\" class=\"dataframe\">\n",
              "  <thead>\n",
              "    <tr style=\"text-align: right;\">\n",
              "      <th></th>\n",
              "      <th>predicted_ratings</th>\n",
              "      <th>anime_id</th>\n",
              "      <th>Name</th>\n",
              "      <th>Score</th>\n",
              "      <th>Genres</th>\n",
              "      <th>English name</th>\n",
              "      <th>Japanese name</th>\n",
              "      <th>Type</th>\n",
              "      <th>Episodes</th>\n",
              "      <th>Aired</th>\n",
              "      <th>...</th>\n",
              "      <th>Rating</th>\n",
              "      <th>Ranked</th>\n",
              "      <th>Popularity</th>\n",
              "      <th>Members</th>\n",
              "      <th>Favorites</th>\n",
              "      <th>Watching</th>\n",
              "      <th>Completed</th>\n",
              "      <th>On-Hold</th>\n",
              "      <th>Dropped</th>\n",
              "      <th>Plan to Watch</th>\n",
              "    </tr>\n",
              "  </thead>\n",
              "  <tbody>\n",
              "    <tr>\n",
              "      <th>1</th>\n",
              "      <td>9.997963</td>\n",
              "      <td>33548</td>\n",
              "      <td>Babyshiba</td>\n",
              "      <td>5.68</td>\n",
              "      <td>Comedy</td>\n",
              "      <td>Unknown</td>\n",
              "      <td>ベビしば</td>\n",
              "      <td>Special</td>\n",
              "      <td>7</td>\n",
              "      <td>2011 to Feb 20, 2020</td>\n",
              "      <td>...</td>\n",
              "      <td>G - All Ages</td>\n",
              "      <td>9207.0</td>\n",
              "      <td>12230</td>\n",
              "      <td>482</td>\n",
              "      <td>0</td>\n",
              "      <td>11</td>\n",
              "      <td>296</td>\n",
              "      <td>14</td>\n",
              "      <td>41</td>\n",
              "      <td>120</td>\n",
              "    </tr>\n",
              "    <tr>\n",
              "      <th>2</th>\n",
              "      <td>9.913454</td>\n",
              "      <td>820</td>\n",
              "      <td>Ginga Eiyuu Densetsu</td>\n",
              "      <td>9.07</td>\n",
              "      <td>Military, Sci-Fi, Space, Drama</td>\n",
              "      <td>Legend of the Galactic Heroes</td>\n",
              "      <td>銀河英雄伝説</td>\n",
              "      <td>OVA</td>\n",
              "      <td>110</td>\n",
              "      <td>Jan 8, 1988 to Mar 17, 1997</td>\n",
              "      <td>...</td>\n",
              "      <td>R - 17+ (violence &amp; profanity)</td>\n",
              "      <td>7.0</td>\n",
              "      <td>633</td>\n",
              "      <td>230168</td>\n",
              "      <td>13834</td>\n",
              "      <td>25968</td>\n",
              "      <td>52583</td>\n",
              "      <td>14911</td>\n",
              "      <td>5950</td>\n",
              "      <td>130756</td>\n",
              "    </tr>\n",
              "    <tr>\n",
              "      <th>3</th>\n",
              "      <td>9.905538</td>\n",
              "      <td>42104</td>\n",
              "      <td>Gisoku no Moses</td>\n",
              "      <td>6.48</td>\n",
              "      <td>Music, Supernatural</td>\n",
              "      <td>Unknown</td>\n",
              "      <td>義足のMoses</td>\n",
              "      <td>Music</td>\n",
              "      <td>1</td>\n",
              "      <td>Sep 15, 2013</td>\n",
              "      <td>...</td>\n",
              "      <td>G - All Ages</td>\n",
              "      <td>5993.0</td>\n",
              "      <td>15172</td>\n",
              "      <td>185</td>\n",
              "      <td>2</td>\n",
              "      <td>2</td>\n",
              "      <td>166</td>\n",
              "      <td>1</td>\n",
              "      <td>1</td>\n",
              "      <td>15</td>\n",
              "    </tr>\n",
              "    <tr>\n",
              "      <th>4</th>\n",
              "      <td>9.861882</td>\n",
              "      <td>40587</td>\n",
              "      <td>Precure Miracle Leap Movie: Minna to no Fushig...</td>\n",
              "      <td>6.97</td>\n",
              "      <td>Action, Fantasy, Magic, Shoujo</td>\n",
              "      <td>Unknown</td>\n",
              "      <td>映画プリキュアミラクルリープ みんなとの不思議な1日</td>\n",
              "      <td>Movie</td>\n",
              "      <td>1</td>\n",
              "      <td>Oct 31, 2020</td>\n",
              "      <td>...</td>\n",
              "      <td>G - All Ages</td>\n",
              "      <td>3732.0</td>\n",
              "      <td>9677</td>\n",
              "      <td>1439</td>\n",
              "      <td>4</td>\n",
              "      <td>28</td>\n",
              "      <td>286</td>\n",
              "      <td>23</td>\n",
              "      <td>28</td>\n",
              "      <td>1074</td>\n",
              "    </tr>\n",
              "    <tr>\n",
              "      <th>5</th>\n",
              "      <td>9.834964</td>\n",
              "      <td>33549</td>\n",
              "      <td>Mame-Mofu Collab Animation</td>\n",
              "      <td>5.51</td>\n",
              "      <td>Comedy</td>\n",
              "      <td>Unknown</td>\n",
              "      <td>豆モフコラボアニメーシヨン</td>\n",
              "      <td>ONA</td>\n",
              "      <td>1</td>\n",
              "      <td>2008</td>\n",
              "      <td>...</td>\n",
              "      <td>G - All Ages</td>\n",
              "      <td>9681.0</td>\n",
              "      <td>12786</td>\n",
              "      <td>382</td>\n",
              "      <td>0</td>\n",
              "      <td>10</td>\n",
              "      <td>215</td>\n",
              "      <td>13</td>\n",
              "      <td>38</td>\n",
              "      <td>106</td>\n",
              "    </tr>\n",
              "    <tr>\n",
              "      <th>6</th>\n",
              "      <td>9.811899</td>\n",
              "      <td>28587</td>\n",
              "      <td>Modern</td>\n",
              "      <td>5.06</td>\n",
              "      <td>Dementia</td>\n",
              "      <td>Unknown</td>\n",
              "      <td>MODERN</td>\n",
              "      <td>Movie</td>\n",
              "      <td>1</td>\n",
              "      <td>2010</td>\n",
              "      <td>...</td>\n",
              "      <td>G - All Ages</td>\n",
              "      <td>10529.0</td>\n",
              "      <td>11708</td>\n",
              "      <td>592</td>\n",
              "      <td>0</td>\n",
              "      <td>8</td>\n",
              "      <td>453</td>\n",
              "      <td>6</td>\n",
              "      <td>21</td>\n",
              "      <td>104</td>\n",
              "    </tr>\n",
              "    <tr>\n",
              "      <th>7</th>\n",
              "      <td>9.811899</td>\n",
              "      <td>19231</td>\n",
              "      <td>Jam</td>\n",
              "      <td>4.83</td>\n",
              "      <td>Music, Dementia, Fantasy</td>\n",
              "      <td>Unknown</td>\n",
              "      <td>JAM</td>\n",
              "      <td>Music</td>\n",
              "      <td>1</td>\n",
              "      <td>2009</td>\n",
              "      <td>...</td>\n",
              "      <td>G - All Ages</td>\n",
              "      <td>10751.0</td>\n",
              "      <td>11289</td>\n",
              "      <td>708</td>\n",
              "      <td>1</td>\n",
              "      <td>11</td>\n",
              "      <td>584</td>\n",
              "      <td>4</td>\n",
              "      <td>23</td>\n",
              "      <td>86</td>\n",
              "    </tr>\n",
              "    <tr>\n",
              "      <th>8</th>\n",
              "      <td>9.725458</td>\n",
              "      <td>39486</td>\n",
              "      <td>Gintama: The Final</td>\n",
              "      <td>8.88</td>\n",
              "      <td>Action, Sci-Fi, Comedy, Historical, Parody, Dr...</td>\n",
              "      <td>Unknown</td>\n",
              "      <td>銀魂 THE FINAL</td>\n",
              "      <td>Movie</td>\n",
              "      <td>1</td>\n",
              "      <td>Jan 8, 2021</td>\n",
              "      <td>...</td>\n",
              "      <td>PG-13 - Teens 13 or older</td>\n",
              "      <td>19.0</td>\n",
              "      <td>2987</td>\n",
              "      <td>29811</td>\n",
              "      <td>902</td>\n",
              "      <td>1465</td>\n",
              "      <td>2640</td>\n",
              "      <td>363</td>\n",
              "      <td>127</td>\n",
              "      <td>25216</td>\n",
              "    </tr>\n",
              "    <tr>\n",
              "      <th>9</th>\n",
              "      <td>9.687181</td>\n",
              "      <td>6658</td>\n",
              "      <td>Unko-san: Tsuiteru Hito ni Shika Mienai Yousei</td>\n",
              "      <td>5.35</td>\n",
              "      <td>Comedy, Magic</td>\n",
              "      <td>Unknown</td>\n",
              "      <td>うんこさん ツイてる人にしか見えない妖精</td>\n",
              "      <td>TV</td>\n",
              "      <td>13</td>\n",
              "      <td>Mar 18, 2009 to Jul 20, 2009</td>\n",
              "      <td>...</td>\n",
              "      <td>PG - Children</td>\n",
              "      <td>10059.0</td>\n",
              "      <td>11544</td>\n",
              "      <td>630</td>\n",
              "      <td>0</td>\n",
              "      <td>39</td>\n",
              "      <td>145</td>\n",
              "      <td>27</td>\n",
              "      <td>128</td>\n",
              "      <td>291</td>\n",
              "    </tr>\n",
              "    <tr>\n",
              "      <th>10</th>\n",
              "      <td>9.684940</td>\n",
              "      <td>40028</td>\n",
              "      <td>Shingeki no Kyojin: The Final Season</td>\n",
              "      <td>9.17</td>\n",
              "      <td>Action, Military, Mystery, Super Power, Drama,...</td>\n",
              "      <td>Attack on Titan Final Season</td>\n",
              "      <td>進撃の巨人 The Final Season</td>\n",
              "      <td>TV</td>\n",
              "      <td>16</td>\n",
              "      <td>Dec 7, 2020 to ?</td>\n",
              "      <td>...</td>\n",
              "      <td>R - 17+ (violence &amp; profanity)</td>\n",
              "      <td>2.0</td>\n",
              "      <td>119</td>\n",
              "      <td>733260</td>\n",
              "      <td>44862</td>\n",
              "      <td>566239</td>\n",
              "      <td>553</td>\n",
              "      <td>6658</td>\n",
              "      <td>2090</td>\n",
              "      <td>157720</td>\n",
              "    </tr>\n",
              "  </tbody>\n",
              "</table>\n",
              "<p>10 rows × 26 columns</p>\n",
              "</div>\n",
              "    <div class=\"colab-df-buttons\">\n",
              "\n",
              "  <div class=\"colab-df-container\">\n",
              "    <button class=\"colab-df-convert\" onclick=\"convertToInteractive('df-6ee1e264-a103-47ce-ba03-f76f3a86e58a')\"\n",
              "            title=\"Convert this dataframe to an interactive table.\"\n",
              "            style=\"display:none;\">\n",
              "\n",
              "  <svg xmlns=\"http://www.w3.org/2000/svg\" height=\"24px\" viewBox=\"0 -960 960 960\">\n",
              "    <path d=\"M120-120v-720h720v720H120Zm60-500h600v-160H180v160Zm220 220h160v-160H400v160Zm0 220h160v-160H400v160ZM180-400h160v-160H180v160Zm440 0h160v-160H620v160ZM180-180h160v-160H180v160Zm440 0h160v-160H620v160Z\"/>\n",
              "  </svg>\n",
              "    </button>\n",
              "\n",
              "  <style>\n",
              "    .colab-df-container {\n",
              "      display:flex;\n",
              "      gap: 12px;\n",
              "    }\n",
              "\n",
              "    .colab-df-convert {\n",
              "      background-color: #E8F0FE;\n",
              "      border: none;\n",
              "      border-radius: 50%;\n",
              "      cursor: pointer;\n",
              "      display: none;\n",
              "      fill: #1967D2;\n",
              "      height: 32px;\n",
              "      padding: 0 0 0 0;\n",
              "      width: 32px;\n",
              "    }\n",
              "\n",
              "    .colab-df-convert:hover {\n",
              "      background-color: #E2EBFA;\n",
              "      box-shadow: 0px 1px 2px rgba(60, 64, 67, 0.3), 0px 1px 3px 1px rgba(60, 64, 67, 0.15);\n",
              "      fill: #174EA6;\n",
              "    }\n",
              "\n",
              "    .colab-df-buttons div {\n",
              "      margin-bottom: 4px;\n",
              "    }\n",
              "\n",
              "    [theme=dark] .colab-df-convert {\n",
              "      background-color: #3B4455;\n",
              "      fill: #D2E3FC;\n",
              "    }\n",
              "\n",
              "    [theme=dark] .colab-df-convert:hover {\n",
              "      background-color: #434B5C;\n",
              "      box-shadow: 0px 1px 3px 1px rgba(0, 0, 0, 0.15);\n",
              "      filter: drop-shadow(0px 1px 2px rgba(0, 0, 0, 0.3));\n",
              "      fill: #FFFFFF;\n",
              "    }\n",
              "  </style>\n",
              "\n",
              "    <script>\n",
              "      const buttonEl =\n",
              "        document.querySelector('#df-6ee1e264-a103-47ce-ba03-f76f3a86e58a button.colab-df-convert');\n",
              "      buttonEl.style.display =\n",
              "        google.colab.kernel.accessAllowed ? 'block' : 'none';\n",
              "\n",
              "      async function convertToInteractive(key) {\n",
              "        const element = document.querySelector('#df-6ee1e264-a103-47ce-ba03-f76f3a86e58a');\n",
              "        const dataTable =\n",
              "          await google.colab.kernel.invokeFunction('convertToInteractive',\n",
              "                                                    [key], {});\n",
              "        if (!dataTable) return;\n",
              "\n",
              "        const docLinkHtml = 'Like what you see? Visit the ' +\n",
              "          '<a target=\"_blank\" href=https://colab.research.google.com/notebooks/data_table.ipynb>data table notebook</a>'\n",
              "          + ' to learn more about interactive tables.';\n",
              "        element.innerHTML = '';\n",
              "        dataTable['output_type'] = 'display_data';\n",
              "        await google.colab.output.renderOutput(dataTable, element);\n",
              "        const docLink = document.createElement('div');\n",
              "        docLink.innerHTML = docLinkHtml;\n",
              "        element.appendChild(docLink);\n",
              "      }\n",
              "    </script>\n",
              "  </div>\n",
              "\n",
              "\n",
              "<div id=\"df-c0eeaf39-c145-410c-8e25-4e503b723253\">\n",
              "  <button class=\"colab-df-quickchart\" onclick=\"quickchart('df-c0eeaf39-c145-410c-8e25-4e503b723253')\"\n",
              "            title=\"Suggest charts.\"\n",
              "            style=\"display:none;\">\n",
              "\n",
              "<svg xmlns=\"http://www.w3.org/2000/svg\" height=\"24px\"viewBox=\"0 0 24 24\"\n",
              "     width=\"24px\">\n",
              "    <g>\n",
              "        <path d=\"M19 3H5c-1.1 0-2 .9-2 2v14c0 1.1.9 2 2 2h14c1.1 0 2-.9 2-2V5c0-1.1-.9-2-2-2zM9 17H7v-7h2v7zm4 0h-2V7h2v10zm4 0h-2v-4h2v4z\"/>\n",
              "    </g>\n",
              "</svg>\n",
              "  </button>\n",
              "\n",
              "<style>\n",
              "  .colab-df-quickchart {\n",
              "      --bg-color: #E8F0FE;\n",
              "      --fill-color: #1967D2;\n",
              "      --hover-bg-color: #E2EBFA;\n",
              "      --hover-fill-color: #174EA6;\n",
              "      --disabled-fill-color: #AAA;\n",
              "      --disabled-bg-color: #DDD;\n",
              "  }\n",
              "\n",
              "  [theme=dark] .colab-df-quickchart {\n",
              "      --bg-color: #3B4455;\n",
              "      --fill-color: #D2E3FC;\n",
              "      --hover-bg-color: #434B5C;\n",
              "      --hover-fill-color: #FFFFFF;\n",
              "      --disabled-bg-color: #3B4455;\n",
              "      --disabled-fill-color: #666;\n",
              "  }\n",
              "\n",
              "  .colab-df-quickchart {\n",
              "    background-color: var(--bg-color);\n",
              "    border: none;\n",
              "    border-radius: 50%;\n",
              "    cursor: pointer;\n",
              "    display: none;\n",
              "    fill: var(--fill-color);\n",
              "    height: 32px;\n",
              "    padding: 0;\n",
              "    width: 32px;\n",
              "  }\n",
              "\n",
              "  .colab-df-quickchart:hover {\n",
              "    background-color: var(--hover-bg-color);\n",
              "    box-shadow: 0 1px 2px rgba(60, 64, 67, 0.3), 0 1px 3px 1px rgba(60, 64, 67, 0.15);\n",
              "    fill: var(--button-hover-fill-color);\n",
              "  }\n",
              "\n",
              "  .colab-df-quickchart-complete:disabled,\n",
              "  .colab-df-quickchart-complete:disabled:hover {\n",
              "    background-color: var(--disabled-bg-color);\n",
              "    fill: var(--disabled-fill-color);\n",
              "    box-shadow: none;\n",
              "  }\n",
              "\n",
              "  .colab-df-spinner {\n",
              "    border: 2px solid var(--fill-color);\n",
              "    border-color: transparent;\n",
              "    border-bottom-color: var(--fill-color);\n",
              "    animation:\n",
              "      spin 1s steps(1) infinite;\n",
              "  }\n",
              "\n",
              "  @keyframes spin {\n",
              "    0% {\n",
              "      border-color: transparent;\n",
              "      border-bottom-color: var(--fill-color);\n",
              "      border-left-color: var(--fill-color);\n",
              "    }\n",
              "    20% {\n",
              "      border-color: transparent;\n",
              "      border-left-color: var(--fill-color);\n",
              "      border-top-color: var(--fill-color);\n",
              "    }\n",
              "    30% {\n",
              "      border-color: transparent;\n",
              "      border-left-color: var(--fill-color);\n",
              "      border-top-color: var(--fill-color);\n",
              "      border-right-color: var(--fill-color);\n",
              "    }\n",
              "    40% {\n",
              "      border-color: transparent;\n",
              "      border-right-color: var(--fill-color);\n",
              "      border-top-color: var(--fill-color);\n",
              "    }\n",
              "    60% {\n",
              "      border-color: transparent;\n",
              "      border-right-color: var(--fill-color);\n",
              "    }\n",
              "    80% {\n",
              "      border-color: transparent;\n",
              "      border-right-color: var(--fill-color);\n",
              "      border-bottom-color: var(--fill-color);\n",
              "    }\n",
              "    90% {\n",
              "      border-color: transparent;\n",
              "      border-bottom-color: var(--fill-color);\n",
              "    }\n",
              "  }\n",
              "</style>\n",
              "\n",
              "  <script>\n",
              "    async function quickchart(key) {\n",
              "      const quickchartButtonEl =\n",
              "        document.querySelector('#' + key + ' button');\n",
              "      quickchartButtonEl.disabled = true;  // To prevent multiple clicks.\n",
              "      quickchartButtonEl.classList.add('colab-df-spinner');\n",
              "      try {\n",
              "        const charts = await google.colab.kernel.invokeFunction(\n",
              "            'suggestCharts', [key], {});\n",
              "      } catch (error) {\n",
              "        console.error('Error during call to suggestCharts:', error);\n",
              "      }\n",
              "      quickchartButtonEl.classList.remove('colab-df-spinner');\n",
              "      quickchartButtonEl.classList.add('colab-df-quickchart-complete');\n",
              "    }\n",
              "    (() => {\n",
              "      let quickchartButtonEl =\n",
              "        document.querySelector('#df-c0eeaf39-c145-410c-8e25-4e503b723253 button');\n",
              "      quickchartButtonEl.style.display =\n",
              "        google.colab.kernel.accessAllowed ? 'block' : 'none';\n",
              "    })();\n",
              "  </script>\n",
              "</div>\n",
              "    </div>\n",
              "  </div>\n"
            ]
          },
          "metadata": {},
          "execution_count": 65
        }
      ]
    },
    {
      "cell_type": "markdown",
      "source": [
        "## Find Similar Anime"
      ],
      "metadata": {
        "id": "xdoUSXUFh-Hr"
      }
    },
    {
      "cell_type": "code",
      "source": [
        "# access the anime factor matrix\n",
        "anime_factors=bestModel.itemFactors\n",
        "anime_factors.printSchema()\n",
        "comd=[\"anime_factors.selectExpr('id as anime_id',\"]\n",
        "for i in range(bestModel.rank):\n",
        "  if i<bestModel.rank-1:\n",
        "    comd.append(\"'features[\"+str(i)+\"] as feature\"+str(i)+\"',\")\n",
        "  else:\n",
        "    comd.append(\"'features[\"+str(i)+\"] as feature\"+str(i)+\"'\")\n",
        "comd.append(')')\n",
        "anime_factors=eval(''.join(comd))\n",
        "anime_factors.createOrReplaceTempView('anime_factors')\n",
        "anime_factors.show()"
      ],
      "metadata": {
        "id": "WBVpdZoliCKb",
        "colab": {
          "base_uri": "https://localhost:8080/"
        },
        "outputId": "d0c1f21b-1187-4f66-ce87-126c3c3728a3"
      },
      "execution_count": null,
      "outputs": [
        {
          "output_type": "stream",
          "name": "stdout",
          "text": [
            "root\n",
            " |-- id: integer (nullable = false)\n",
            " |-- features: array (nullable = true)\n",
            " |    |-- element: float (containsNull = false)\n",
            "\n",
            "+--------+----------+------------+---------+\n",
            "|anime_id|  feature0|    feature1| feature2|\n",
            "+--------+----------+------------+---------+\n",
            "|      20|-2.1277092|  0.68452996|1.6622198|\n",
            "|      30|-2.5180597| -0.38406634|1.8295298|\n",
            "|      50|-1.4042178|   0.6463099|2.0325708|\n",
            "|      60|-1.9516193|   0.7689254|1.7565758|\n",
            "|      80| -2.470847|  0.04924053| 1.609769|\n",
            "|      90|-1.8573298|   0.6414743|1.9505315|\n",
            "|     100|  -1.64909|   1.1359538|1.5627209|\n",
            "|     110|-2.0504954|   0.5633836|1.6849251|\n",
            "|     120|-1.8010101|   0.6471438|1.8491751|\n",
            "|     130|-2.0721552|  0.67289895|1.5921729|\n",
            "|     150|-1.9594846|   0.7041516| 1.794246|\n",
            "|     160|-2.3473966|-9.904025E-4|1.7018836|\n",
            "|     170|  -2.46312| 0.028636694|1.8711846|\n",
            "|     180|-1.4442654|   0.9402968|1.8916358|\n",
            "|     190|-1.1597747|   0.9442097|2.1668253|\n",
            "|     200|-1.8460441|  0.37175155|2.0336535|\n",
            "|     210|-1.9747603|  0.44946408|1.9337153|\n",
            "|     220|-1.1613222|  0.94738376|1.7080052|\n",
            "|     230|-1.3312317|   0.7020719|1.8747935|\n",
            "|     240| -1.789158| 0.051436692|2.1635396|\n",
            "+--------+----------+------------+---------+\n",
            "only showing top 20 rows\n",
            "\n"
          ]
        }
      ]
    },
    {
      "cell_type": "code",
      "source": [
        "# method 1: Euclidean distance based similarity\n",
        "def dist_similar(k,mid):\n",
        "  '''\n",
        "  k: number of similar animes to find\n",
        "  mid: id of the anime to find similarities\n",
        "  '''\n",
        "  anime_info=spark.sql('select * from anime_factors where anime_id='+str(mid)).toPandas()\n",
        "  if anime_info.shape[0]<=0:\n",
        "    print('No anime with id '+str(mid)+' is found in the data.')\n",
        "    return None, None\n",
        "  temp=['select anime_id,']\n",
        "  for i in range(bestModel.rank):\n",
        "    val=anime_info.iloc[0,i+1]\n",
        "    if val>0:\n",
        "      comd='feature'+str(i)+'-'+str(val)\n",
        "    else:\n",
        "      comd='feature'+str(i)+'+'+str(-val)\n",
        "    if i<bestModel.rank-1:\n",
        "      temp.append('('+comd+')*('+comd+') as sd'+str(i)+',')\n",
        "    else:\n",
        "      temp.append('('+comd+')*('+comd+') as sd'+str(i))\n",
        "  temp.append('from anime_factors where anime_id!='+str(mid))\n",
        "  ssd=spark.sql(' '.join(temp))\n",
        "  ssd=ssd.selectExpr('anime_id','sd0+sd1+sd2 as ssd').orderBy('ssd').limit(k).toPandas()\n",
        "  out=None\n",
        "  for i in ssd['anime_id']:\n",
        "    if not out:\n",
        "      out=animes_df.where(animes_df.anime_id==str(i))\n",
        "    else:\n",
        "      out=out.union(animes_df.where(animes_df.anime_id==str(i)))\n",
        "  out=out.toPandas()\n",
        "  out.index=range(1,k+1)\n",
        "  out.drop(columns = out.columns[-10:],inplace=True)\n",
        "  return out, ssd"
      ],
      "metadata": {
        "id": "Y4-nrUiYibwL"
      },
      "execution_count": null,
      "outputs": []
    },
    {
      "cell_type": "code",
      "source": [
        "# # method 2: cosine similarity\n",
        "# def cos_similar(k,mid):\n",
        "#   '''\n",
        "#   k: number of similar animes to find\n",
        "#   mid: id of the anime to find similarities\n",
        "#   '''\n",
        "#   anime_info=spark.sql('select * from anime_factors where anime_id='+str(mid)).toPandas()\n",
        "#   if anime_info.shape[0]<=0:\n",
        "#     print('No anime with id '+str(mid)+' is found in the data.')\n",
        "#     return None, None\n",
        "#   norm_m=sum(anime_info.iloc[0,1:].values**2)**0.5\n",
        "#   temp=['select anime_id,']\n",
        "#   norm_str=['sqrt(']\n",
        "#   for i in range(bestModel.rank):\n",
        "#     comd='feature'+str(i)+'*'+str(anime_info.iloc[0,i+1])\n",
        "#     temp.append(comd+' as inner'+str(i)+',')\n",
        "#     if i<bestModel.rank-1:\n",
        "#       norm_str.append('feature'+str(i)+'*feature'+str(i)+'+')\n",
        "#     else:\n",
        "#       norm_str.append('feature'+str(i)+'*feature'+str(i))\n",
        "#   norm_str.append(') as norm')\n",
        "#   temp.append(''.join(norm_str))\n",
        "#   temp.append(' from anime_factors where anime_id!='+str(mid))\n",
        "#   inner=spark.sql(' '.join(temp))\n",
        "#   inner=inner.selectExpr('anime_id',\\\n",
        "#                          '(inner0+inner1+inner2)/norm/'+str(norm_m)+' as innerP').\\\n",
        "#                          orderBy('innerP',ascending=False).limit(k).toPandas()\n",
        "#   out=None\n",
        "#   for i in inner['anime_id']:\n",
        "#     if not out:\n",
        "#       out=animes_df.where(animes_df.anime_id==str(i))\n",
        "#     else:\n",
        "#       out=out.union(animes_df.where(animes_df.anime_id==str(i)))\n",
        "#   out=out.toPandas()\n",
        "#   out.index=range(1,k+1)\n",
        "#   out.drop(columns = out.columns[-10:],inplace=True)\n",
        "#   return out, inner"
      ],
      "metadata": {
        "id": "Dkoes5DQi-rV"
      },
      "execution_count": null,
      "outputs": []
    },
    {
      "cell_type": "code",
      "source": [
        "# top = 5\n",
        "# aid = 20\n",
        "# out,inner=cos_similar(top,aid)\n",
        "# print(f'Top {top} similar animes to {animes_df.filter(animes_df[\"anime_id\"] == aid).select(\"Japanese name\").collect()[0][\"Japanese name\"]}:')\n",
        "# out"
      ],
      "metadata": {
        "id": "57kRSaWqjT9i"
      },
      "execution_count": null,
      "outputs": []
    },
    {
      "cell_type": "code",
      "source": [
        "top = 5\n",
        "aid = 20\n",
        "\n",
        "out,inner=dist_similar(top,aid)\n",
        "print(f'Top {top} similar anime to {animes_df.filter(animes_df[\"anime_id\"] == aid).select(\"Japanese name\").collect()[0][\"Japanese name\"]}:')\n",
        "out"
      ],
      "metadata": {
        "id": "u1qPFHJKnqYY",
        "colab": {
          "base_uri": "https://localhost:8080/",
          "height": 794
        },
        "outputId": "7b25308b-f2e0-438b-c70e-13c8f1405442"
      },
      "execution_count": null,
      "outputs": [
        {
          "output_type": "stream",
          "name": "stdout",
          "text": [
            "Top 5 similar anime to ナルト:\n"
          ]
        },
        {
          "output_type": "execute_result",
          "data": {
            "text/plain": [
              "  anime_id                                Name Score  \\\n",
              "1     8514  Break Blade 2: Ketsubetsu no Michi  7.75   \n",
              "2     6444                         Tegamibachi  7.65   \n",
              "3     1486               Kodomo no Omocha (TV)  8.04   \n",
              "4    37869              BanG Dream! 2nd Season  7.59   \n",
              "5      957                Saiunkoku Monogatari  7.94   \n",
              "\n",
              "                                              Genres             English name  \\\n",
              "1          Action, Fantasy, Mecha, Military, Shounen           Broken Blade 2   \n",
              "2          Adventure, Supernatural, Fantasy, Shounen  Tegami Bachi:Letter Bee   \n",
              "3                     Comedy, Drama, Romance, Shoujo                  Kodocha   \n",
              "4                                              Music                  Unknown   \n",
              "5  Adventure, Comedy, Drama, Fantasy, Historical,...   The Story of Saiunkoku   \n",
              "\n",
              "           Japanese name   Type Episodes                        Aired  \\\n",
              "1          ブレイクブレイド 訣別ノ路  Movie        1                 Jun 26, 2010   \n",
              "2                  テガミバチ     TV       25  Oct 3, 2009 to Mar 27, 2010   \n",
              "3               こどものおもちゃ     TV      102  Apr 5, 1996 to Mar 27, 1998   \n",
              "4  BanG Dream!（バンドリ！）第2期     TV       13  Jan 3, 2019 to Mar 28, 2019   \n",
              "5                  彩雲国物語     TV       39  Apr 8, 2006 to Feb 24, 2007   \n",
              "\n",
              "     Premiered  ...                          Rating  Ranked Popularity  \\\n",
              "1      Unknown  ...  R - 17+ (violence & profanity)   923.0       2060   \n",
              "2    Fall 2009  ...       PG-13 - Teens 13 or older  1148.0       1357   \n",
              "3  Spring 1996  ...       PG-13 - Teens 13 or older   491.0       2285   \n",
              "4  Winter 2019  ...       PG-13 - Teens 13 or older  1306.0       3095   \n",
              "5  Spring 2006  ...       PG-13 - Teens 13 or older   623.0       1677   \n",
              "\n",
              "  Members Favorites Watching Completed On-Hold Dropped Plan to Watch  \n",
              "1   57276        27      534     49205     318     195          7024  \n",
              "2  103916       782     6231     47679    6395    5903         37708  \n",
              "3   49188      1111     3536     22988    4927    3580         14157  \n",
              "4   27967       412     2235     15787     841    1035          8069  \n",
              "5   79685      1186     5702     35803    5003    3975         29202  \n",
              "\n",
              "[5 rows x 25 columns]"
            ],
            "text/html": [
              "\n",
              "  <div id=\"df-54d97895-f3c2-4a7b-859d-4676ac71f0f0\" class=\"colab-df-container\">\n",
              "    <div>\n",
              "<style scoped>\n",
              "    .dataframe tbody tr th:only-of-type {\n",
              "        vertical-align: middle;\n",
              "    }\n",
              "\n",
              "    .dataframe tbody tr th {\n",
              "        vertical-align: top;\n",
              "    }\n",
              "\n",
              "    .dataframe thead th {\n",
              "        text-align: right;\n",
              "    }\n",
              "</style>\n",
              "<table border=\"1\" class=\"dataframe\">\n",
              "  <thead>\n",
              "    <tr style=\"text-align: right;\">\n",
              "      <th></th>\n",
              "      <th>anime_id</th>\n",
              "      <th>Name</th>\n",
              "      <th>Score</th>\n",
              "      <th>Genres</th>\n",
              "      <th>English name</th>\n",
              "      <th>Japanese name</th>\n",
              "      <th>Type</th>\n",
              "      <th>Episodes</th>\n",
              "      <th>Aired</th>\n",
              "      <th>Premiered</th>\n",
              "      <th>...</th>\n",
              "      <th>Rating</th>\n",
              "      <th>Ranked</th>\n",
              "      <th>Popularity</th>\n",
              "      <th>Members</th>\n",
              "      <th>Favorites</th>\n",
              "      <th>Watching</th>\n",
              "      <th>Completed</th>\n",
              "      <th>On-Hold</th>\n",
              "      <th>Dropped</th>\n",
              "      <th>Plan to Watch</th>\n",
              "    </tr>\n",
              "  </thead>\n",
              "  <tbody>\n",
              "    <tr>\n",
              "      <th>1</th>\n",
              "      <td>8514</td>\n",
              "      <td>Break Blade 2: Ketsubetsu no Michi</td>\n",
              "      <td>7.75</td>\n",
              "      <td>Action, Fantasy, Mecha, Military, Shounen</td>\n",
              "      <td>Broken Blade 2</td>\n",
              "      <td>ブレイクブレイド 訣別ノ路</td>\n",
              "      <td>Movie</td>\n",
              "      <td>1</td>\n",
              "      <td>Jun 26, 2010</td>\n",
              "      <td>Unknown</td>\n",
              "      <td>...</td>\n",
              "      <td>R - 17+ (violence &amp; profanity)</td>\n",
              "      <td>923.0</td>\n",
              "      <td>2060</td>\n",
              "      <td>57276</td>\n",
              "      <td>27</td>\n",
              "      <td>534</td>\n",
              "      <td>49205</td>\n",
              "      <td>318</td>\n",
              "      <td>195</td>\n",
              "      <td>7024</td>\n",
              "    </tr>\n",
              "    <tr>\n",
              "      <th>2</th>\n",
              "      <td>6444</td>\n",
              "      <td>Tegamibachi</td>\n",
              "      <td>7.65</td>\n",
              "      <td>Adventure, Supernatural, Fantasy, Shounen</td>\n",
              "      <td>Tegami Bachi:Letter Bee</td>\n",
              "      <td>テガミバチ</td>\n",
              "      <td>TV</td>\n",
              "      <td>25</td>\n",
              "      <td>Oct 3, 2009 to Mar 27, 2010</td>\n",
              "      <td>Fall 2009</td>\n",
              "      <td>...</td>\n",
              "      <td>PG-13 - Teens 13 or older</td>\n",
              "      <td>1148.0</td>\n",
              "      <td>1357</td>\n",
              "      <td>103916</td>\n",
              "      <td>782</td>\n",
              "      <td>6231</td>\n",
              "      <td>47679</td>\n",
              "      <td>6395</td>\n",
              "      <td>5903</td>\n",
              "      <td>37708</td>\n",
              "    </tr>\n",
              "    <tr>\n",
              "      <th>3</th>\n",
              "      <td>1486</td>\n",
              "      <td>Kodomo no Omocha (TV)</td>\n",
              "      <td>8.04</td>\n",
              "      <td>Comedy, Drama, Romance, Shoujo</td>\n",
              "      <td>Kodocha</td>\n",
              "      <td>こどものおもちゃ</td>\n",
              "      <td>TV</td>\n",
              "      <td>102</td>\n",
              "      <td>Apr 5, 1996 to Mar 27, 1998</td>\n",
              "      <td>Spring 1996</td>\n",
              "      <td>...</td>\n",
              "      <td>PG-13 - Teens 13 or older</td>\n",
              "      <td>491.0</td>\n",
              "      <td>2285</td>\n",
              "      <td>49188</td>\n",
              "      <td>1111</td>\n",
              "      <td>3536</td>\n",
              "      <td>22988</td>\n",
              "      <td>4927</td>\n",
              "      <td>3580</td>\n",
              "      <td>14157</td>\n",
              "    </tr>\n",
              "    <tr>\n",
              "      <th>4</th>\n",
              "      <td>37869</td>\n",
              "      <td>BanG Dream! 2nd Season</td>\n",
              "      <td>7.59</td>\n",
              "      <td>Music</td>\n",
              "      <td>Unknown</td>\n",
              "      <td>BanG Dream!（バンドリ！）第2期</td>\n",
              "      <td>TV</td>\n",
              "      <td>13</td>\n",
              "      <td>Jan 3, 2019 to Mar 28, 2019</td>\n",
              "      <td>Winter 2019</td>\n",
              "      <td>...</td>\n",
              "      <td>PG-13 - Teens 13 or older</td>\n",
              "      <td>1306.0</td>\n",
              "      <td>3095</td>\n",
              "      <td>27967</td>\n",
              "      <td>412</td>\n",
              "      <td>2235</td>\n",
              "      <td>15787</td>\n",
              "      <td>841</td>\n",
              "      <td>1035</td>\n",
              "      <td>8069</td>\n",
              "    </tr>\n",
              "    <tr>\n",
              "      <th>5</th>\n",
              "      <td>957</td>\n",
              "      <td>Saiunkoku Monogatari</td>\n",
              "      <td>7.94</td>\n",
              "      <td>Adventure, Comedy, Drama, Fantasy, Historical,...</td>\n",
              "      <td>The Story of Saiunkoku</td>\n",
              "      <td>彩雲国物語</td>\n",
              "      <td>TV</td>\n",
              "      <td>39</td>\n",
              "      <td>Apr 8, 2006 to Feb 24, 2007</td>\n",
              "      <td>Spring 2006</td>\n",
              "      <td>...</td>\n",
              "      <td>PG-13 - Teens 13 or older</td>\n",
              "      <td>623.0</td>\n",
              "      <td>1677</td>\n",
              "      <td>79685</td>\n",
              "      <td>1186</td>\n",
              "      <td>5702</td>\n",
              "      <td>35803</td>\n",
              "      <td>5003</td>\n",
              "      <td>3975</td>\n",
              "      <td>29202</td>\n",
              "    </tr>\n",
              "  </tbody>\n",
              "</table>\n",
              "<p>5 rows × 25 columns</p>\n",
              "</div>\n",
              "    <div class=\"colab-df-buttons\">\n",
              "\n",
              "  <div class=\"colab-df-container\">\n",
              "    <button class=\"colab-df-convert\" onclick=\"convertToInteractive('df-54d97895-f3c2-4a7b-859d-4676ac71f0f0')\"\n",
              "            title=\"Convert this dataframe to an interactive table.\"\n",
              "            style=\"display:none;\">\n",
              "\n",
              "  <svg xmlns=\"http://www.w3.org/2000/svg\" height=\"24px\" viewBox=\"0 -960 960 960\">\n",
              "    <path d=\"M120-120v-720h720v720H120Zm60-500h600v-160H180v160Zm220 220h160v-160H400v160Zm0 220h160v-160H400v160ZM180-400h160v-160H180v160Zm440 0h160v-160H620v160ZM180-180h160v-160H180v160Zm440 0h160v-160H620v160Z\"/>\n",
              "  </svg>\n",
              "    </button>\n",
              "\n",
              "  <style>\n",
              "    .colab-df-container {\n",
              "      display:flex;\n",
              "      gap: 12px;\n",
              "    }\n",
              "\n",
              "    .colab-df-convert {\n",
              "      background-color: #E8F0FE;\n",
              "      border: none;\n",
              "      border-radius: 50%;\n",
              "      cursor: pointer;\n",
              "      display: none;\n",
              "      fill: #1967D2;\n",
              "      height: 32px;\n",
              "      padding: 0 0 0 0;\n",
              "      width: 32px;\n",
              "    }\n",
              "\n",
              "    .colab-df-convert:hover {\n",
              "      background-color: #E2EBFA;\n",
              "      box-shadow: 0px 1px 2px rgba(60, 64, 67, 0.3), 0px 1px 3px 1px rgba(60, 64, 67, 0.15);\n",
              "      fill: #174EA6;\n",
              "    }\n",
              "\n",
              "    .colab-df-buttons div {\n",
              "      margin-bottom: 4px;\n",
              "    }\n",
              "\n",
              "    [theme=dark] .colab-df-convert {\n",
              "      background-color: #3B4455;\n",
              "      fill: #D2E3FC;\n",
              "    }\n",
              "\n",
              "    [theme=dark] .colab-df-convert:hover {\n",
              "      background-color: #434B5C;\n",
              "      box-shadow: 0px 1px 3px 1px rgba(0, 0, 0, 0.15);\n",
              "      filter: drop-shadow(0px 1px 2px rgba(0, 0, 0, 0.3));\n",
              "      fill: #FFFFFF;\n",
              "    }\n",
              "  </style>\n",
              "\n",
              "    <script>\n",
              "      const buttonEl =\n",
              "        document.querySelector('#df-54d97895-f3c2-4a7b-859d-4676ac71f0f0 button.colab-df-convert');\n",
              "      buttonEl.style.display =\n",
              "        google.colab.kernel.accessAllowed ? 'block' : 'none';\n",
              "\n",
              "      async function convertToInteractive(key) {\n",
              "        const element = document.querySelector('#df-54d97895-f3c2-4a7b-859d-4676ac71f0f0');\n",
              "        const dataTable =\n",
              "          await google.colab.kernel.invokeFunction('convertToInteractive',\n",
              "                                                    [key], {});\n",
              "        if (!dataTable) return;\n",
              "\n",
              "        const docLinkHtml = 'Like what you see? Visit the ' +\n",
              "          '<a target=\"_blank\" href=https://colab.research.google.com/notebooks/data_table.ipynb>data table notebook</a>'\n",
              "          + ' to learn more about interactive tables.';\n",
              "        element.innerHTML = '';\n",
              "        dataTable['output_type'] = 'display_data';\n",
              "        await google.colab.output.renderOutput(dataTable, element);\n",
              "        const docLink = document.createElement('div');\n",
              "        docLink.innerHTML = docLinkHtml;\n",
              "        element.appendChild(docLink);\n",
              "      }\n",
              "    </script>\n",
              "  </div>\n",
              "\n",
              "\n",
              "<div id=\"df-ada0efd9-5763-4e72-b517-5182295e8521\">\n",
              "  <button class=\"colab-df-quickchart\" onclick=\"quickchart('df-ada0efd9-5763-4e72-b517-5182295e8521')\"\n",
              "            title=\"Suggest charts.\"\n",
              "            style=\"display:none;\">\n",
              "\n",
              "<svg xmlns=\"http://www.w3.org/2000/svg\" height=\"24px\"viewBox=\"0 0 24 24\"\n",
              "     width=\"24px\">\n",
              "    <g>\n",
              "        <path d=\"M19 3H5c-1.1 0-2 .9-2 2v14c0 1.1.9 2 2 2h14c1.1 0 2-.9 2-2V5c0-1.1-.9-2-2-2zM9 17H7v-7h2v7zm4 0h-2V7h2v10zm4 0h-2v-4h2v4z\"/>\n",
              "    </g>\n",
              "</svg>\n",
              "  </button>\n",
              "\n",
              "<style>\n",
              "  .colab-df-quickchart {\n",
              "      --bg-color: #E8F0FE;\n",
              "      --fill-color: #1967D2;\n",
              "      --hover-bg-color: #E2EBFA;\n",
              "      --hover-fill-color: #174EA6;\n",
              "      --disabled-fill-color: #AAA;\n",
              "      --disabled-bg-color: #DDD;\n",
              "  }\n",
              "\n",
              "  [theme=dark] .colab-df-quickchart {\n",
              "      --bg-color: #3B4455;\n",
              "      --fill-color: #D2E3FC;\n",
              "      --hover-bg-color: #434B5C;\n",
              "      --hover-fill-color: #FFFFFF;\n",
              "      --disabled-bg-color: #3B4455;\n",
              "      --disabled-fill-color: #666;\n",
              "  }\n",
              "\n",
              "  .colab-df-quickchart {\n",
              "    background-color: var(--bg-color);\n",
              "    border: none;\n",
              "    border-radius: 50%;\n",
              "    cursor: pointer;\n",
              "    display: none;\n",
              "    fill: var(--fill-color);\n",
              "    height: 32px;\n",
              "    padding: 0;\n",
              "    width: 32px;\n",
              "  }\n",
              "\n",
              "  .colab-df-quickchart:hover {\n",
              "    background-color: var(--hover-bg-color);\n",
              "    box-shadow: 0 1px 2px rgba(60, 64, 67, 0.3), 0 1px 3px 1px rgba(60, 64, 67, 0.15);\n",
              "    fill: var(--button-hover-fill-color);\n",
              "  }\n",
              "\n",
              "  .colab-df-quickchart-complete:disabled,\n",
              "  .colab-df-quickchart-complete:disabled:hover {\n",
              "    background-color: var(--disabled-bg-color);\n",
              "    fill: var(--disabled-fill-color);\n",
              "    box-shadow: none;\n",
              "  }\n",
              "\n",
              "  .colab-df-spinner {\n",
              "    border: 2px solid var(--fill-color);\n",
              "    border-color: transparent;\n",
              "    border-bottom-color: var(--fill-color);\n",
              "    animation:\n",
              "      spin 1s steps(1) infinite;\n",
              "  }\n",
              "\n",
              "  @keyframes spin {\n",
              "    0% {\n",
              "      border-color: transparent;\n",
              "      border-bottom-color: var(--fill-color);\n",
              "      border-left-color: var(--fill-color);\n",
              "    }\n",
              "    20% {\n",
              "      border-color: transparent;\n",
              "      border-left-color: var(--fill-color);\n",
              "      border-top-color: var(--fill-color);\n",
              "    }\n",
              "    30% {\n",
              "      border-color: transparent;\n",
              "      border-left-color: var(--fill-color);\n",
              "      border-top-color: var(--fill-color);\n",
              "      border-right-color: var(--fill-color);\n",
              "    }\n",
              "    40% {\n",
              "      border-color: transparent;\n",
              "      border-right-color: var(--fill-color);\n",
              "      border-top-color: var(--fill-color);\n",
              "    }\n",
              "    60% {\n",
              "      border-color: transparent;\n",
              "      border-right-color: var(--fill-color);\n",
              "    }\n",
              "    80% {\n",
              "      border-color: transparent;\n",
              "      border-right-color: var(--fill-color);\n",
              "      border-bottom-color: var(--fill-color);\n",
              "    }\n",
              "    90% {\n",
              "      border-color: transparent;\n",
              "      border-bottom-color: var(--fill-color);\n",
              "    }\n",
              "  }\n",
              "</style>\n",
              "\n",
              "  <script>\n",
              "    async function quickchart(key) {\n",
              "      const quickchartButtonEl =\n",
              "        document.querySelector('#' + key + ' button');\n",
              "      quickchartButtonEl.disabled = true;  // To prevent multiple clicks.\n",
              "      quickchartButtonEl.classList.add('colab-df-spinner');\n",
              "      try {\n",
              "        const charts = await google.colab.kernel.invokeFunction(\n",
              "            'suggestCharts', [key], {});\n",
              "      } catch (error) {\n",
              "        console.error('Error during call to suggestCharts:', error);\n",
              "      }\n",
              "      quickchartButtonEl.classList.remove('colab-df-spinner');\n",
              "      quickchartButtonEl.classList.add('colab-df-quickchart-complete');\n",
              "    }\n",
              "    (() => {\n",
              "      let quickchartButtonEl =\n",
              "        document.querySelector('#df-ada0efd9-5763-4e72-b517-5182295e8521 button');\n",
              "      quickchartButtonEl.style.display =\n",
              "        google.colab.kernel.accessAllowed ? 'block' : 'none';\n",
              "    })();\n",
              "  </script>\n",
              "</div>\n",
              "    </div>\n",
              "  </div>\n"
            ]
          },
          "metadata": {},
          "execution_count": 80
        }
      ]
    },
    {
      "cell_type": "markdown",
      "source": [
        "## Find Similar Users"
      ],
      "metadata": {
        "id": "W6pcg05VTGnk"
      }
    },
    {
      "cell_type": "code",
      "source": [
        "# access the user factor matrix\n",
        "user_factors=bestModel.userFactors\n",
        "user_factors.printSchema()\n",
        "comd=[\"user_factors.selectExpr('id as user_id',\"]\n",
        "for i in range(bestModel.rank):\n",
        "  if i<bestModel.rank-1:\n",
        "    comd.append(\"'features[\"+str(i)+\"] as feature\"+str(i)+\"',\")\n",
        "  else:\n",
        "    comd.append(\"'features[\"+str(i)+\"] as feature\"+str(i)+\"'\")\n",
        "comd.append(')')\n",
        "user_factors=eval(''.join(comd))\n",
        "user_factors.createOrReplaceTempView('user_factors')\n",
        "user_factors.show()"
      ],
      "metadata": {
        "colab": {
          "base_uri": "https://localhost:8080/"
        },
        "id": "p59eGLPbTIJS",
        "outputId": "895b0e86-6e57-428a-a47d-99369a3999a0"
      },
      "execution_count": null,
      "outputs": [
        {
          "output_type": "stream",
          "name": "stdout",
          "text": [
            "root\n",
            " |-- id: integer (nullable = false)\n",
            " |-- features: array (nullable = true)\n",
            " |    |-- element: float (containsNull = false)\n",
            "\n",
            "+-------+----------+-----------+---------+\n",
            "|user_id|  feature0|   feature1| feature2|\n",
            "+-------+----------+-----------+---------+\n",
            "|      0|-1.6551893|   0.960991|2.0029519|\n",
            "|     10|-1.6256915|-0.58096343| 2.540024|\n",
            "|     20|-2.1059556|  0.3793684|1.9054576|\n",
            "|     30|-1.1894776|  1.1555476|2.2121267|\n",
            "|     40|  -1.72558| 0.97494936| 2.410203|\n",
            "|     50| -2.287674|  1.0154909|1.4708419|\n",
            "|     70|-1.8941176| 0.16345747|1.7714578|\n",
            "|     80|-2.1077907|  0.4987558|1.9543378|\n",
            "|     90|-2.2461884| 0.65986276|2.0443568|\n",
            "|    110|-1.8102409|  1.1637928|2.7055497|\n",
            "|    120| -1.954856|  1.7558557|2.6704712|\n",
            "|    130|-1.9476491|  1.7065022| 2.673875|\n",
            "|    150|-2.4732518| 0.99101293|1.6358964|\n",
            "|    160|-1.9794515|  1.0296916|1.8419101|\n",
            "|    170|-1.8889861|  1.0413419|1.9393209|\n",
            "|    190|-2.1884487|  1.4605225| 2.205869|\n",
            "|    210|-2.1311314| 0.36608398|1.7157235|\n",
            "|    220|-2.2730625|  1.1444346|1.5511293|\n",
            "|    230|-1.8683887|  0.9518229|2.4083128|\n",
            "|    240| -1.434039|-0.83918995|1.7232592|\n",
            "+-------+----------+-----------+---------+\n",
            "only showing top 20 rows\n",
            "\n"
          ]
        }
      ]
    },
    {
      "cell_type": "code",
      "source": [
        "def dist_similar_user(k,mid):\n",
        "  '''\n",
        "  k: number of similar users to find\n",
        "  mid: id of the user to find similarities\n",
        "  '''\n",
        "  user_info=spark.sql('select * from user_factors where user_id='+str(mid)).toPandas()\n",
        "  if user_info.shape[0]<=0:\n",
        "    print('No user with id '+str(mid)+' is found in the data.')\n",
        "    return None, None\n",
        "  temp=['select user_id,']\n",
        "  for i in range(bestModel.rank):\n",
        "    val=user_info.iloc[0,i+1]\n",
        "    if val>0:\n",
        "      comd='feature'+str(i)+'-'+str(val)\n",
        "    else:\n",
        "      comd='feature'+str(i)+'+'+str(-val)\n",
        "    if i<bestModel.rank-1:\n",
        "      temp.append('('+comd+')*('+comd+') as sd'+str(i)+',')\n",
        "    else:\n",
        "      temp.append('('+comd+')*('+comd+') as sd'+str(i))\n",
        "  temp.append('from user_factors where user_id!='+str(mid))\n",
        "  ssd=spark.sql(' '.join(temp))\n",
        "  ssd=ssd.selectExpr('user_id','sd0+sd1+sd2 as ssd').orderBy('ssd').limit(k).toPandas()\n",
        "  return ssd"
      ],
      "metadata": {
        "id": "a4YXUO6xTxZO"
      },
      "execution_count": null,
      "outputs": []
    },
    {
      "cell_type": "code",
      "source": [
        "top = 5\n",
        "uid = 20\n",
        "print(f'Top {top} similar users to user{uid}:')\n",
        "dist_similar_user(top,uid).iloc[:,:-1]"
      ],
      "metadata": {
        "colab": {
          "base_uri": "https://localhost:8080/",
          "height": 224
        },
        "id": "ivkEfN-zUnEi",
        "outputId": "488b71ca-8fe7-4dd7-c36d-c98ad6156f88"
      },
      "execution_count": null,
      "outputs": [
        {
          "output_type": "stream",
          "name": "stdout",
          "text": [
            "Top 5 similar users to user20:\n"
          ]
        },
        {
          "output_type": "execute_result",
          "data": {
            "text/plain": [
              "   user_id\n",
              "0     3331\n",
              "1     5079\n",
              "2     4107\n",
              "3     2174\n",
              "4     3638"
            ],
            "text/html": [
              "\n",
              "  <div id=\"df-feab4759-4d36-4dfc-9a35-f0895f93349b\" class=\"colab-df-container\">\n",
              "    <div>\n",
              "<style scoped>\n",
              "    .dataframe tbody tr th:only-of-type {\n",
              "        vertical-align: middle;\n",
              "    }\n",
              "\n",
              "    .dataframe tbody tr th {\n",
              "        vertical-align: top;\n",
              "    }\n",
              "\n",
              "    .dataframe thead th {\n",
              "        text-align: right;\n",
              "    }\n",
              "</style>\n",
              "<table border=\"1\" class=\"dataframe\">\n",
              "  <thead>\n",
              "    <tr style=\"text-align: right;\">\n",
              "      <th></th>\n",
              "      <th>user_id</th>\n",
              "    </tr>\n",
              "  </thead>\n",
              "  <tbody>\n",
              "    <tr>\n",
              "      <th>0</th>\n",
              "      <td>3331</td>\n",
              "    </tr>\n",
              "    <tr>\n",
              "      <th>1</th>\n",
              "      <td>5079</td>\n",
              "    </tr>\n",
              "    <tr>\n",
              "      <th>2</th>\n",
              "      <td>4107</td>\n",
              "    </tr>\n",
              "    <tr>\n",
              "      <th>3</th>\n",
              "      <td>2174</td>\n",
              "    </tr>\n",
              "    <tr>\n",
              "      <th>4</th>\n",
              "      <td>3638</td>\n",
              "    </tr>\n",
              "  </tbody>\n",
              "</table>\n",
              "</div>\n",
              "    <div class=\"colab-df-buttons\">\n",
              "\n",
              "  <div class=\"colab-df-container\">\n",
              "    <button class=\"colab-df-convert\" onclick=\"convertToInteractive('df-feab4759-4d36-4dfc-9a35-f0895f93349b')\"\n",
              "            title=\"Convert this dataframe to an interactive table.\"\n",
              "            style=\"display:none;\">\n",
              "\n",
              "  <svg xmlns=\"http://www.w3.org/2000/svg\" height=\"24px\" viewBox=\"0 -960 960 960\">\n",
              "    <path d=\"M120-120v-720h720v720H120Zm60-500h600v-160H180v160Zm220 220h160v-160H400v160Zm0 220h160v-160H400v160ZM180-400h160v-160H180v160Zm440 0h160v-160H620v160ZM180-180h160v-160H180v160Zm440 0h160v-160H620v160Z\"/>\n",
              "  </svg>\n",
              "    </button>\n",
              "\n",
              "  <style>\n",
              "    .colab-df-container {\n",
              "      display:flex;\n",
              "      gap: 12px;\n",
              "    }\n",
              "\n",
              "    .colab-df-convert {\n",
              "      background-color: #E8F0FE;\n",
              "      border: none;\n",
              "      border-radius: 50%;\n",
              "      cursor: pointer;\n",
              "      display: none;\n",
              "      fill: #1967D2;\n",
              "      height: 32px;\n",
              "      padding: 0 0 0 0;\n",
              "      width: 32px;\n",
              "    }\n",
              "\n",
              "    .colab-df-convert:hover {\n",
              "      background-color: #E2EBFA;\n",
              "      box-shadow: 0px 1px 2px rgba(60, 64, 67, 0.3), 0px 1px 3px 1px rgba(60, 64, 67, 0.15);\n",
              "      fill: #174EA6;\n",
              "    }\n",
              "\n",
              "    .colab-df-buttons div {\n",
              "      margin-bottom: 4px;\n",
              "    }\n",
              "\n",
              "    [theme=dark] .colab-df-convert {\n",
              "      background-color: #3B4455;\n",
              "      fill: #D2E3FC;\n",
              "    }\n",
              "\n",
              "    [theme=dark] .colab-df-convert:hover {\n",
              "      background-color: #434B5C;\n",
              "      box-shadow: 0px 1px 3px 1px rgba(0, 0, 0, 0.15);\n",
              "      filter: drop-shadow(0px 1px 2px rgba(0, 0, 0, 0.3));\n",
              "      fill: #FFFFFF;\n",
              "    }\n",
              "  </style>\n",
              "\n",
              "    <script>\n",
              "      const buttonEl =\n",
              "        document.querySelector('#df-feab4759-4d36-4dfc-9a35-f0895f93349b button.colab-df-convert');\n",
              "      buttonEl.style.display =\n",
              "        google.colab.kernel.accessAllowed ? 'block' : 'none';\n",
              "\n",
              "      async function convertToInteractive(key) {\n",
              "        const element = document.querySelector('#df-feab4759-4d36-4dfc-9a35-f0895f93349b');\n",
              "        const dataTable =\n",
              "          await google.colab.kernel.invokeFunction('convertToInteractive',\n",
              "                                                    [key], {});\n",
              "        if (!dataTable) return;\n",
              "\n",
              "        const docLinkHtml = 'Like what you see? Visit the ' +\n",
              "          '<a target=\"_blank\" href=https://colab.research.google.com/notebooks/data_table.ipynb>data table notebook</a>'\n",
              "          + ' to learn more about interactive tables.';\n",
              "        element.innerHTML = '';\n",
              "        dataTable['output_type'] = 'display_data';\n",
              "        await google.colab.output.renderOutput(dataTable, element);\n",
              "        const docLink = document.createElement('div');\n",
              "        docLink.innerHTML = docLinkHtml;\n",
              "        element.appendChild(docLink);\n",
              "      }\n",
              "    </script>\n",
              "  </div>\n",
              "\n",
              "\n",
              "<div id=\"df-f06e2d5d-a7c8-447c-a66d-0fc582a37ac8\">\n",
              "  <button class=\"colab-df-quickchart\" onclick=\"quickchart('df-f06e2d5d-a7c8-447c-a66d-0fc582a37ac8')\"\n",
              "            title=\"Suggest charts.\"\n",
              "            style=\"display:none;\">\n",
              "\n",
              "<svg xmlns=\"http://www.w3.org/2000/svg\" height=\"24px\"viewBox=\"0 0 24 24\"\n",
              "     width=\"24px\">\n",
              "    <g>\n",
              "        <path d=\"M19 3H5c-1.1 0-2 .9-2 2v14c0 1.1.9 2 2 2h14c1.1 0 2-.9 2-2V5c0-1.1-.9-2-2-2zM9 17H7v-7h2v7zm4 0h-2V7h2v10zm4 0h-2v-4h2v4z\"/>\n",
              "    </g>\n",
              "</svg>\n",
              "  </button>\n",
              "\n",
              "<style>\n",
              "  .colab-df-quickchart {\n",
              "      --bg-color: #E8F0FE;\n",
              "      --fill-color: #1967D2;\n",
              "      --hover-bg-color: #E2EBFA;\n",
              "      --hover-fill-color: #174EA6;\n",
              "      --disabled-fill-color: #AAA;\n",
              "      --disabled-bg-color: #DDD;\n",
              "  }\n",
              "\n",
              "  [theme=dark] .colab-df-quickchart {\n",
              "      --bg-color: #3B4455;\n",
              "      --fill-color: #D2E3FC;\n",
              "      --hover-bg-color: #434B5C;\n",
              "      --hover-fill-color: #FFFFFF;\n",
              "      --disabled-bg-color: #3B4455;\n",
              "      --disabled-fill-color: #666;\n",
              "  }\n",
              "\n",
              "  .colab-df-quickchart {\n",
              "    background-color: var(--bg-color);\n",
              "    border: none;\n",
              "    border-radius: 50%;\n",
              "    cursor: pointer;\n",
              "    display: none;\n",
              "    fill: var(--fill-color);\n",
              "    height: 32px;\n",
              "    padding: 0;\n",
              "    width: 32px;\n",
              "  }\n",
              "\n",
              "  .colab-df-quickchart:hover {\n",
              "    background-color: var(--hover-bg-color);\n",
              "    box-shadow: 0 1px 2px rgba(60, 64, 67, 0.3), 0 1px 3px 1px rgba(60, 64, 67, 0.15);\n",
              "    fill: var(--button-hover-fill-color);\n",
              "  }\n",
              "\n",
              "  .colab-df-quickchart-complete:disabled,\n",
              "  .colab-df-quickchart-complete:disabled:hover {\n",
              "    background-color: var(--disabled-bg-color);\n",
              "    fill: var(--disabled-fill-color);\n",
              "    box-shadow: none;\n",
              "  }\n",
              "\n",
              "  .colab-df-spinner {\n",
              "    border: 2px solid var(--fill-color);\n",
              "    border-color: transparent;\n",
              "    border-bottom-color: var(--fill-color);\n",
              "    animation:\n",
              "      spin 1s steps(1) infinite;\n",
              "  }\n",
              "\n",
              "  @keyframes spin {\n",
              "    0% {\n",
              "      border-color: transparent;\n",
              "      border-bottom-color: var(--fill-color);\n",
              "      border-left-color: var(--fill-color);\n",
              "    }\n",
              "    20% {\n",
              "      border-color: transparent;\n",
              "      border-left-color: var(--fill-color);\n",
              "      border-top-color: var(--fill-color);\n",
              "    }\n",
              "    30% {\n",
              "      border-color: transparent;\n",
              "      border-left-color: var(--fill-color);\n",
              "      border-top-color: var(--fill-color);\n",
              "      border-right-color: var(--fill-color);\n",
              "    }\n",
              "    40% {\n",
              "      border-color: transparent;\n",
              "      border-right-color: var(--fill-color);\n",
              "      border-top-color: var(--fill-color);\n",
              "    }\n",
              "    60% {\n",
              "      border-color: transparent;\n",
              "      border-right-color: var(--fill-color);\n",
              "    }\n",
              "    80% {\n",
              "      border-color: transparent;\n",
              "      border-right-color: var(--fill-color);\n",
              "      border-bottom-color: var(--fill-color);\n",
              "    }\n",
              "    90% {\n",
              "      border-color: transparent;\n",
              "      border-bottom-color: var(--fill-color);\n",
              "    }\n",
              "  }\n",
              "</style>\n",
              "\n",
              "  <script>\n",
              "    async function quickchart(key) {\n",
              "      const quickchartButtonEl =\n",
              "        document.querySelector('#' + key + ' button');\n",
              "      quickchartButtonEl.disabled = true;  // To prevent multiple clicks.\n",
              "      quickchartButtonEl.classList.add('colab-df-spinner');\n",
              "      try {\n",
              "        const charts = await google.colab.kernel.invokeFunction(\n",
              "            'suggestCharts', [key], {});\n",
              "      } catch (error) {\n",
              "        console.error('Error during call to suggestCharts:', error);\n",
              "      }\n",
              "      quickchartButtonEl.classList.remove('colab-df-spinner');\n",
              "      quickchartButtonEl.classList.add('colab-df-quickchart-complete');\n",
              "    }\n",
              "    (() => {\n",
              "      let quickchartButtonEl =\n",
              "        document.querySelector('#df-f06e2d5d-a7c8-447c-a66d-0fc582a37ac8 button');\n",
              "      quickchartButtonEl.style.display =\n",
              "        google.colab.kernel.accessAllowed ? 'block' : 'none';\n",
              "    })();\n",
              "  </script>\n",
              "</div>\n",
              "    </div>\n",
              "  </div>\n"
            ]
          },
          "metadata": {},
          "execution_count": 83
        }
      ]
    }
  ]
}